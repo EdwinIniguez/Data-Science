{
  "cells": [
    {
      "cell_type": "markdown",
      "metadata": {
        "id": "AM4O94-jfejS"
      },
      "source": [
        "# Distribuciones\n",
        "\n",
        "Aqui se presenta uno de los conceptos más fundamentales de la estadística: la distribución.\n",
        "Comenzaremos con las **tablas de frecuencias**, que representan los valores de un conjunto de datos y el número de veces que aparece cada uno de ellos, y las utilizaremos para explorar los datos de la Encuesta Nacional de Crecimiento Familiar (NSFG)."
      ]
    },
    {
      "cell_type": "code",
      "execution_count": 1,
      "metadata": {
        "id": "4G38D835foRC"
      },
      "outputs": [],
      "source": [
        "import numpy as np\n",
        "import matplotlib.pyplot as plt\n",
        "import pandas as pd"
      ]
    },
    {
      "cell_type": "markdown",
      "metadata": {
        "id": "YkXJ2JNef1CO"
      },
      "source": [
        "## Tablas de frecuencias\n",
        "\n",
        "Una forma de describir una variable es mediante una **tabla de frecuencias**, que contiene los valores de la variable y sus **frecuencias**, es decir, el número de veces que aparece cada valor.\n",
        "Esta descripción se denomina **distribución** de la variable.\n",
        "\n"
      ]
    },
    {
      "cell_type": "markdown",
      "metadata": {
        "id": "tOdMvh7-qVJz"
      },
      "source": [
        "Para representar distribuciones, se proporciona diferentes funciones que podemos utilizar para calcular y trazar tablas de frecuencias, PMF & CDF."
      ]
    },
    {
      "cell_type": "code",
      "execution_count": 2,
      "metadata": {
        "id": "SnqYjdzkqXG9"
      },
      "outputs": [],
      "source": [
        "def from_seq(seq, name=None, normalize=True, sort=True, ascending=True, dropna=True, na_position=\"last\", convert_to=\"PMF\"):\n",
        "  \"\"\"Crea un PMF a partir de una secuencia de valores.\n",
        "  Args:\n",
        "      seq: iterable\n",
        "      normalize: si se debe normalizar la serie (i.e, Pmf), por defecto True\n",
        "      sort: si se debe ordenar la serie por valores, por defecto True\n",
        "      ascending: si se debe ordenar en orden ascendente, por defecto True\n",
        "      dropna: si se deben eliminar los valores NaN, por defecto True\n",
        "      na_position: si es 'first', coloca los NaNs al principio;\n",
        "                  si es 'last', coloca los NaNs al final.\n",
        "      convert_to: si es 'FreqTab', Crea una tabla de frecuencia;\n",
        "                  si es 'PMF' (default), crea una funcion de masa de probabilidad;\n",
        "                  si es 'CDF', crea una función de distribución acumulada.\n",
        "\n",
        "  Returns: pd.Series\n",
        "  \"\"\"\n",
        "  if convert_to == \"FreqTab\":\n",
        "    normalize=False\n",
        "\n",
        "  # compute the value counts\n",
        "  series = pd.Series(seq, name=name).value_counts(normalize=normalize, sort=sort, dropna=dropna)\n",
        "\n",
        "  # sort in place, if desired\n",
        "  if sort:\n",
        "    series.sort_index(inplace=True, ascending=ascending, na_position=na_position)\n",
        "\n",
        "  if convert_to == \"CDF\":\n",
        "    series = np.cumsum(series)\n",
        "\n",
        "  return series\n",
        "\n",
        "def get_qs(Tab):\n",
        "    \"\"\"Obtener las cantidades.\n",
        "\n",
        "    Returns: NumPy array\n",
        "    \"\"\"\n",
        "    return Tab.index.values\n",
        "\n",
        "def get_ps(Tab):\n",
        "    \"\"\"Obtener las probabilidades/frecuencias.\n",
        "\n",
        "    Returns: NumPy array\n",
        "    \"\"\"\n",
        "    return Tab.values\n",
        "\n",
        "def plot_bar(Tab, xlabel=\"x\", ylabel=\"y\", title=\"tittle\"):\n",
        "    \"\"\"Crea un gráfico de barras.\n",
        "\n",
        "    Args:\n",
        "        kwargs: se pasa a plt.bar\n",
        "    \"\"\"\n",
        "    qs = get_qs(Tab)\n",
        "    ps = get_ps(Tab)\n",
        "\n",
        "    plt.bar(qs, ps)\n",
        "\n",
        "    plt.xlabel(xlabel)\n",
        "    plt.ylabel(ylabel)\n",
        "    plt.title(title)"
      ]
    },
    {
      "cell_type": "markdown",
      "metadata": {
        "id": "01C9bgXBqfxX"
      },
      "source": [
        "Para mostrar cómo funciona, comenzaremos con una pequeña lista de valores."
      ]
    },
    {
      "cell_type": "code",
      "execution_count": 3,
      "metadata": {
        "id": "qoIz9ZDzqi2K"
      },
      "outputs": [],
      "source": [
        "t = [1.0, 2.0, 2.0, 3.0, 5.0]"
      ]
    },
    {
      "cell_type": "markdown",
      "metadata": {
        "id": "EUk38XvpqjGi"
      },
      "source": [
        "Se proporciona un método llamado `from_seq` que toma una secuencia y  utilizando el parametro `convert_to` creamos una dataframe que representara nuestra tabla de frecuencia (`ftab`)."
      ]
    },
    {
      "cell_type": "code",
      "execution_count": 4,
      "metadata": {
        "id": "Xf72TDoRq_Jz"
      },
      "outputs": [
        {
          "data": {
            "text/plain": [
              "1.0    1\n",
              "2.0    2\n",
              "3.0    1\n",
              "5.0    1\n",
              "Name: count, dtype: int64"
            ]
          },
          "execution_count": 4,
          "metadata": {},
          "output_type": "execute_result"
        }
      ],
      "source": [
        "ftab = from_seq(t, convert_to=\"FreqTab\")\n",
        "ftab"
      ]
    },
    {
      "cell_type": "markdown",
      "metadata": {
        "id": "WDePvB8riB_e"
      },
      "source": [
        "Un dataframe `FreqTab` es un tipo de `Series` de Pandas que contiene valores y sus frecuencias.\n",
        "En este ejemplo, el valor `1.0` corresponde a la frecuencia 1, el valor `2.0` corresponde a la frecuencia 2, etc.\n",
        "\n",
        "Tambien proporcionamos un método llamado `plot_bar` que traza la tabla de frecuencias como un `gráfico de barras`."
      ]
    },
    {
      "cell_type": "code",
      "execution_count": 5,
      "metadata": {
        "id": "PxGmA3gssFIU"
      },
      "outputs": [
        {
          "data": {
            "image/png": "[encoded data removed]",
            "text/plain": [
              "<Figure size 640x480 with 1 Axes>"
            ]
          },
          "metadata": {},
          "output_type": "display_data"
        }
      ],
      "source": [
        "plot_bar(ftab, xlabel='Valor', ylabel='Frecuencia', title='Gráfica de Barras de Frecuencia')\n",
        "plt.show()"
      ]
    },
    {
      "cell_type": "markdown",
      "metadata": {
        "id": "E4l5uxRjjHcb"
      },
      "source": [
        "Dado que un `FreqTab` es un `Series` de Pandas, podemos utilizar el operador de corchetes para buscar un valor y obtener su frecuencia."
      ]
    },
    {
      "cell_type": "code",
      "execution_count": 6,
      "metadata": {
        "id": "W76RuBq3jHjy"
      },
      "outputs": [
        {
          "data": {
            "text/plain": [
              "2"
            ]
          },
          "execution_count": 6,
          "metadata": {},
          "output_type": "execute_result"
        }
      ],
      "source": [
        "ftab[2.0].item()"
      ]
    },
    {
      "cell_type": "code",
      "execution_count": 7,
      "metadata": {
        "id": "VYukQjXcjqPc"
      },
      "outputs": [
        {
          "data": {
            "text/plain": [
              "1"
            ]
          },
          "execution_count": 7,
          "metadata": {},
          "output_type": "execute_result"
        }
      ],
      "source": [
        "ftab[3.0].item()"
      ]
    },
    {
      "cell_type": "code",
      "execution_count": 8,
      "metadata": {
        "id": "RACELOgBjpzr"
      },
      "outputs": [
        {
          "name": "stdout",
          "output_type": "stream",
          "text": [
            "Elemento no encontrado\n"
          ]
        }
      ],
      "source": [
        "try:\n",
        "  ftab[4.0].item()\n",
        "except:\n",
        "  print(\"Elemento no encontrado\")"
      ]
    },
    {
      "cell_type": "markdown",
      "metadata": {
        "id": "qBk6bJYIjkOC"
      },
      "source": [
        "Podemos usar la funcion `get_qs` en el dataframe `ftab`; `qs` significa **\"quantities (cantidades)\"**, aunque técnicamente no todos los valores son cantidades."
      ]
    },
    {
      "cell_type": "code",
      "execution_count": 9,
      "metadata": {
        "id": "E3ENnL6rs43m"
      },
      "outputs": [
        {
          "data": {
            "text/plain": [
              "array([1., 2., 3., 5.])"
            ]
          },
          "execution_count": 9,
          "metadata": {},
          "output_type": "execute_result"
        }
      ],
      "source": [
        "get_qs(ftab)"
      ]
    },
    {
      "cell_type": "markdown",
      "metadata": {
        "id": "8GaxFY9UkmPH"
      },
      "source": [
        "También podemos usar la funcion `get_ps` que devuelve las frecuencias; aunque `ps` significa **\"probabilities (probabilidades)\"** en este caso que trabajamos con una tabla de frecuencia, hace referencia a las `frecuencias`."
      ]
    },
    {
      "cell_type": "code",
      "execution_count": 10,
      "metadata": {
        "id": "3EtSlssNtyls"
      },
      "outputs": [
        {
          "data": {
            "text/plain": [
              "array([1, 2, 1, 1], dtype=int64)"
            ]
          },
          "execution_count": 10,
          "metadata": {},
          "output_type": "execute_result"
        }
      ],
      "source": [
        "get_ps(ftab)"
      ]
    },
    {
      "cell_type": "markdown",
      "metadata": {
        "id": "rbZuX3PgkxLi"
      },
      "source": [
        "El dataframe `FreqTab` proporciona un método `items` que podemos utilizar para recorrer los pares cantidad-frecuencia:"
      ]
    },
    {
      "cell_type": "code",
      "execution_count": 11,
      "metadata": {
        "id": "gk19cq_1kxtL"
      },
      "outputs": [
        {
          "name": "stdout",
          "output_type": "stream",
          "text": [
            "1.0 -> 1\n",
            "2.0 -> 2\n",
            "3.0 -> 1\n",
            "5.0 -> 1\n"
          ]
        }
      ],
      "source": [
        "for x, freq in ftab.items():\n",
        "    print(x, \"->\", freq)"
      ]
    },
    {
      "cell_type": "markdown",
      "metadata": {
        "id": "JjTEd8oRllfW"
      },
      "source": [
        "\n",
        "\n",
        "---\n",
        "\n",
        "## PMFs\n",
        "\n",
        "Un objeto `Pmf` es similar a un `FreqTab`, pero contiene probabilidades en lugar de frecuencias.\n",
        "Por lo tanto, una forma de crear un `Pmf` es partir de un `FreqTab`.\n",
        "Por ejemplo, aquí hay un `FreqTab` que representa la distribución de valores en una secuencia corta."
      ]
    },
    {
      "cell_type": "markdown",
      "metadata": {
        "id": "nIctBDQ2sFbL"
      },
      "source": [
        "La suma de las frecuencias es el tamaño de la secuencia original."
      ]
    },
    {
      "cell_type": "code",
      "execution_count": 12,
      "metadata": {
        "id": "SLEQSLHNsGxD"
      },
      "outputs": [
        {
          "data": {
            "text/plain": [
              "5"
            ]
          },
          "execution_count": 12,
          "metadata": {},
          "output_type": "execute_result"
        }
      ],
      "source": [
        "n = ftab.sum()\n",
        "n.item()"
      ]
    },
    {
      "cell_type": "markdown",
      "metadata": {
        "id": "SwZs2WX4sMEz"
      },
      "source": [
        "Si dividimos las frecuencias por `n`, representan proporciones, en lugar de recuentos."
      ]
    },
    {
      "cell_type": "code",
      "execution_count": 13,
      "metadata": {
        "id": "XSyiPc08sMMp"
      },
      "outputs": [
        {
          "data": {
            "text/plain": [
              "1.0    0.2\n",
              "2.0    0.4\n",
              "3.0    0.2\n",
              "5.0    0.2\n",
              "Name: count, dtype: float64"
            ]
          },
          "execution_count": 13,
          "metadata": {},
          "output_type": "execute_result"
        }
      ],
      "source": [
        "pmf = ftab / n\n",
        "pmf"
      ]
    },
    {
      "cell_type": "markdown",
      "metadata": {
        "id": "BBXfQI-RsVw8"
      },
      "source": [
        "Este resultado indica que el 20 % de los valores de la secuencia son 1, el 40 % son 2, y así sucesivamente.\n",
        "\n",
        "También podemos considerar estas proporciones como probabilidades en el siguiente sentido: si elegimos un valor aleatorio de la secuencia original, la probabilidad de que elijamos el valor 1 es 0.2, la probabilidad de que elijamos el valor 2 es 0.4, y así sucesivamente.\n",
        "\n",
        "Como hemos dividido por `n`, la suma de las probabilidades es 1, lo que significa que esta distribución está **normalizada**."
      ]
    },
    {
      "cell_type": "code",
      "execution_count": 14,
      "metadata": {
        "id": "D4IMBL6YsV5C"
      },
      "outputs": [
        {
          "data": {
            "text/plain": [
              "1.0"
            ]
          },
          "execution_count": 14,
          "metadata": {},
          "output_type": "execute_result"
        }
      ],
      "source": [
        "pmf.sum().item()"
      ]
    },
    {
      "cell_type": "markdown",
      "metadata": {
        "id": "CTlU2759t8a-"
      },
      "source": [
        "El dataframe `FreqTab` normalizado representa una **función de masa de probabilidad** (PMF), llamada así porque las probabilidades asociadas a valores discretos también se denominan **\"masas de probabilidad\"**.\n",
        "\n"
      ]
    },
    {
      "cell_type": "markdown",
      "metadata": {
        "id": "Fbd8Iinbt8dy"
      },
      "source": [
        "## Una manera mas facil...\n",
        "\n",
        "En la funcoin `from_seq`, el parametro `convert_to` proporciona la opcion `PMF` que representa una función de masa de probabilidad, por lo que, en lugar de crear un dataframe `FreqTab` y luego normalizarlo, podemos crear un dataframe `PMF` directamente."
      ]
    },
    {
      "cell_type": "code",
      "execution_count": 15,
      "metadata": {
        "id": "FqTvZxYE2K1k"
      },
      "outputs": [
        {
          "data": {
            "text/plain": [
              "1.0    0.2\n",
              "2.0    0.4\n",
              "3.0    0.2\n",
              "5.0    0.2\n",
              "Name: proportion, dtype: float64"
            ]
          },
          "execution_count": 15,
          "metadata": {},
          "output_type": "execute_result"
        }
      ],
      "source": [
        "ftab = from_seq(t, convert_to=\"PMF\")\n",
        "ftab"
      ]
    },
    {
      "cell_type": "markdown",
      "metadata": {
        "id": "-LUkrWuJuWOR"
      },
      "source": [
        "Los dataframe `Pmf` y `FreqTab` son similares en muchos aspectos.\n",
        "Para buscar la probabilidad asociada a un valor, podemos utilizar el operador de corchetes."
      ]
    },
    {
      "cell_type": "code",
      "execution_count": 16,
      "metadata": {
        "id": "0bsGg8tHuXYV"
      },
      "outputs": [
        {
          "data": {
            "text/plain": [
              "0.4"
            ]
          },
          "execution_count": 16,
          "metadata": {},
          "output_type": "execute_result"
        }
      ],
      "source": [
        "pmf[2].item()"
      ]
    },
    {
      "cell_type": "markdown",
      "metadata": {
        "id": "Lo4_aNLwu4QF"
      },
      "source": [
        "Puede modificar un `Pmf` existente asignando o modificando la probabilidad asociada a un valor:"
      ]
    },
    {
      "cell_type": "code",
      "execution_count": 17,
      "metadata": {
        "id": "wPftQtF_uZLm"
      },
      "outputs": [
        {
          "data": {
            "text/plain": [
              "1.0    0.2\n",
              "2.0    0.2\n",
              "3.0    0.2\n",
              "5.0    0.2\n",
              "Name: count, dtype: float64"
            ]
          },
          "execution_count": 17,
          "metadata": {},
          "output_type": "execute_result"
        }
      ],
      "source": [
        "pmf[2] = 0.2\n",
        "pmf"
      ]
    },
    {
      "cell_type": "code",
      "execution_count": 18,
      "metadata": {
        "id": "6Jvcnlzeu-bA"
      },
      "outputs": [
        {
          "data": {
            "text/plain": [
              "1.0    0.2\n",
              "2.0    0.5\n",
              "3.0    0.2\n",
              "5.0    0.2\n",
              "Name: count, dtype: float64"
            ]
          },
          "execution_count": 18,
          "metadata": {},
          "output_type": "execute_result"
        }
      ],
      "source": [
        "pmf[2] += 0.3\n",
        "pmf"
      ]
    },
    {
      "cell_type": "code",
      "execution_count": 19,
      "metadata": {
        "id": "MUWgduxru-do"
      },
      "outputs": [
        {
          "data": {
            "text/plain": [
              "1.0    0.20\n",
              "2.0    0.25\n",
              "3.0    0.20\n",
              "5.0    0.20\n",
              "Name: count, dtype: float64"
            ]
          },
          "execution_count": 19,
          "metadata": {},
          "output_type": "execute_result"
        }
      ],
      "source": [
        "pmf[2] *= 0.5\n",
        "pmf"
      ]
    },
    {
      "cell_type": "markdown",
      "metadata": {
        "id": "nq4wgqY5vG7O"
      },
      "source": [
        "**NOTA.** Si modifica un `Pmf`, es posible que el resultado no se normalice, es decir, que las probabilidades ya no sumen 1."
      ]
    },
    {
      "cell_type": "code",
      "execution_count": 20,
      "metadata": {
        "id": "CcS07iiLu-fy"
      },
      "outputs": [
        {
          "data": {
            "text/plain": [
              "0.8500000000000001"
            ]
          },
          "execution_count": 20,
          "metadata": {},
          "output_type": "execute_result"
        }
      ],
      "source": [
        "pmf.sum().item()"
      ]
    },
    {
      "cell_type": "markdown",
      "metadata": {
        "id": "JlLJ35mPvbGa"
      },
      "source": [
        "Al igual que un objeto `FreqTab`, un objeto `Pmf` tiene un atributo `qs` que accede a las **cantidades** y un atributo `ps` que accede a las **probabilidades**.\n",
        "\n",
        "También tiene un método `bar` que traza el `Pmf` como un gráfico de barras y un método `plot` que lo traza como un gráfico de líneas."
      ]
    },
    {
      "cell_type": "code",
      "execution_count": 21,
      "metadata": {
        "id": "CFOvyaVcvMSt"
      },
      "outputs": [
        {
          "data": {
            "text/plain": [
              "1.0    0.2\n",
              "2.0    0.4\n",
              "3.0    0.2\n",
              "5.0    0.2\n",
              "Name: proportion, dtype: float64"
            ]
          },
          "execution_count": 21,
          "metadata": {},
          "output_type": "execute_result"
        }
      ],
      "source": [
        "pmf = from_seq(t, convert_to=\"PMF\")\n",
        "pmf"
      ]
    },
    {
      "cell_type": "code",
      "execution_count": 22,
      "metadata": {
        "id": "m7UF4gEvw1EU"
      },
      "outputs": [
        {
          "data": {
            "text/plain": [
              "array([1., 2., 3., 5.])"
            ]
          },
          "execution_count": 22,
          "metadata": {},
          "output_type": "execute_result"
        }
      ],
      "source": [
        "get_qs(pmf)"
      ]
    },
    {
      "cell_type": "code",
      "execution_count": 23,
      "metadata": {
        "id": "8JulMkrLw1Bn"
      },
      "outputs": [
        {
          "data": {
            "text/plain": [
              "array([0.2, 0.4, 0.2, 0.2])"
            ]
          },
          "execution_count": 23,
          "metadata": {},
          "output_type": "execute_result"
        }
      ],
      "source": [
        "get_ps(pmf)"
      ]
    },
    {
      "cell_type": "markdown",
      "metadata": {
        "id": "KfIJzB8IwqUy"
      },
      "source": [
        "## Media (valor esperado)\n",
        "\n",
        "Dado el `Pmf`, aún podemos calcular la media, pero el proceso es diferente: tenemos que multiplicar las probabilidades y las cantidades y sumar los productos."
      ]
    },
    {
      "cell_type": "code",
      "execution_count": 24,
      "metadata": {
        "id": "eqbDW76lwvSA"
      },
      "outputs": [
        {
          "data": {
            "text/plain": [
              "2.6"
            ]
          },
          "execution_count": 24,
          "metadata": {},
          "output_type": "execute_result"
        }
      ],
      "source": [
        "mean = np.sum(get_ps(pmf) * get_qs(pmf)) # mean = 1 * 0.2 + 2 * 0.4 + 3 * 0.2 + 5 * 0.2\n",
        "mean.item()"
      ]
    },
    {
      "cell_type": "markdown",
      "metadata": {
        "id": "O27GSOTAzCBN"
      },
      "source": [
        "Observe que *no* tenemos que dividir por `n`, porque ya lo hicimos cuando normalizamos el `Pmf`.\n"
      ]
    },
    {
      "cell_type": "markdown",
      "metadata": {
        "id": "NZ4mneX65nhj"
      },
      "source": [
        "Observe lo que si tratamos de utilizar el metodo `mean` del dataframe de `pandas` por si solo."
      ]
    },
    {
      "cell_type": "code",
      "execution_count": 25,
      "metadata": {
        "id": "e7QpUQRfzCZl"
      },
      "outputs": [
        {
          "data": {
            "text/plain": [
              "0.25"
            ]
          },
          "execution_count": 25,
          "metadata": {},
          "output_type": "execute_result"
        }
      ],
      "source": [
        "pmf.mean().item()"
      ]
    },
    {
      "cell_type": "markdown",
      "metadata": {
        "id": "yPXS4v6gxVJV"
      },
      "source": [
        "Podemos utilizar funcion `mean` de `numpy` en la lista de numeros original `t = [1.0, 2.0, 2.0, 3.0, 5.0]` en que se hace lo mismo para mostrar la equivalencia de resultados"
      ]
    },
    {
      "cell_type": "code",
      "execution_count": 26,
      "metadata": {
        "id": "QCGqFJW75bYv"
      },
      "outputs": [
        {
          "data": {
            "text/plain": [
              "2.6"
            ]
          },
          "execution_count": 26,
          "metadata": {},
          "output_type": "execute_result"
        }
      ],
      "source": [
        "np.mean(t).item()"
      ]
    },
    {
      "cell_type": "markdown",
      "metadata": {
        "id": "vQ8doXMtzeeT"
      },
      "source": [
        "## Varianza\n",
        "\n",
        "Dado un `Pmf`, podemos calcular la varianza calculando la desviación de cada cantidad con respecto a la media."
      ]
    },
    {
      "cell_type": "code",
      "execution_count": 27,
      "metadata": {
        "id": "Ix-4jGOK75n-"
      },
      "outputs": [
        {
          "data": {
            "text/plain": [
              "array([-1.6, -0.6,  0.4,  2.4])"
            ]
          },
          "execution_count": 27,
          "metadata": {},
          "output_type": "execute_result"
        }
      ],
      "source": [
        "deviations = get_qs(pmf) - mean\n",
        "deviations"
      ]
    },
    {
      "cell_type": "markdown",
      "metadata": {
        "id": "G7p6M8E1zwdN"
      },
      "source": [
        "A continuación, multiplicamos las **desviaciones al cuadrado** por las **probabilidades** y **sumamos los productos**."
      ]
    },
    {
      "cell_type": "code",
      "execution_count": 28,
      "metadata": {
        "id": "uiEcqB18zwif"
      },
      "outputs": [
        {
          "data": {
            "text/plain": [
              "1.84"
            ]
          },
          "execution_count": 28,
          "metadata": {},
          "output_type": "execute_result"
        }
      ],
      "source": [
        "var = np.sum(get_ps(pmf) * deviations**2)\n",
        "var.item()"
      ]
    },
    {
      "cell_type": "code",
      "execution_count": 29,
      "metadata": {
        "id": "319F6lZb_DRX"
      },
      "outputs": [
        {
          "data": {
            "text/plain": [
              "1.3564659966250536"
            ]
          },
          "execution_count": 29,
          "metadata": {},
          "output_type": "execute_result"
        }
      ],
      "source": [
        "#Desviacion estandar\n",
        "\n",
        "np.sqrt(var).item()"
      ]
    },
    {
      "cell_type": "markdown",
      "metadata": {
        "id": "kFcl_Q9FzzKh"
      },
      "source": [
        "El método `var` hace lo mismo o el método `std` de `numpy`."
      ]
    },
    {
      "cell_type": "code",
      "execution_count": 30,
      "metadata": {
        "id": "r6ahNhoi9a2a"
      },
      "outputs": [
        {
          "data": {
            "text/plain": [
              "1.8400000000000003"
            ]
          },
          "execution_count": 30,
          "metadata": {},
          "output_type": "execute_result"
        }
      ],
      "source": [
        "np.var(t).item()"
      ]
    },
    {
      "cell_type": "code",
      "execution_count": 31,
      "metadata": {
        "id": "UNQk3lEV9fQR"
      },
      "outputs": [
        {
          "data": {
            "text/plain": [
              "1.3564659966250538"
            ]
          },
          "execution_count": 31,
          "metadata": {},
          "output_type": "execute_result"
        }
      ],
      "source": [
        "np.std(t).item()"
      ]
    },
    {
      "cell_type": "markdown",
      "metadata": {
        "id": "AqHJM4Bu0YJf"
      },
      "source": [
        "Podemos usar `stats` de `scipy`, que proporciona un método `mode` que encuentra el valor con la probabilidad más alta."
      ]
    },
    {
      "cell_type": "code",
      "execution_count": 32,
      "metadata": {
        "id": "gHDfzzlT-k6g"
      },
      "outputs": [
        {
          "data": {
            "text/plain": [
              "ModeResult(mode=2.0, count=2)"
            ]
          },
          "execution_count": 32,
          "metadata": {},
          "output_type": "execute_result"
        }
      ],
      "source": [
        "from scipy import stats\n",
        "\n",
        "stats.mode(t)"
      ]
    },
    {
      "cell_type": "markdown",
      "metadata": {
        "id": "YCNmQV7w4SWg"
      },
      "source": [
        "# EJERCICIOS\n",
        "\n",
        "---\n",
        "---\n",
        "# Datos NSFG\n",
        "\n",
        "Cuando empieces a trabajar con un nuevo conjunto de datos, te sugiero que explores las variables que planeas utilizar una por una, y una buena forma de empezar es mirando las tablas de frecuencia.\n",
        "\n",
        "Como ejemplo, veamos los datos de la Encuesta Nacional de Crecimiento Familiar (NSFG).\n",
        "\n",
        "Para los ejercicios, cargaremos el archivo de mujeres encuestadas del NSFG, que contiene una fila por cada mujer encuestada."
      ]
    },
    {
      "cell_type": "code",
      "execution_count": 33,
      "metadata": {
        "id": "iWmB0dxJGams"
      },
      "outputs": [],
      "source": [
        "from os.path import basename, exists\n",
        "\n",
        "try:\n",
        "    import statadict\n",
        "except ImportError:\n",
        "    %pip install statadict\n",
        "\n",
        "try:\n",
        "    import empiricaldist\n",
        "except ImportError:\n",
        "    %pip install empiricaldist\n",
        "\n",
        "def download(url):\n",
        "    filename = basename(url)\n",
        "    if not exists(filename):\n",
        "        from urllib.request import urlretrieve\n",
        "\n",
        "        local, _ = urlretrieve(url, filename)\n",
        "        print(\"Downloaded \" + local)\n",
        "\n",
        "download(\"https://github.com/AllenDowney/ThinkStats/raw/v3/nb/nsfg.py\")\n",
        "download(\"https://github.com/AllenDowney/ThinkStats/raw/v3/nb/thinkstats.py\")\n",
        "download(\"https://github.com/AllenDowney/ThinkStats/raw/v3/data/2002FemResp.dct\")\n",
        "download(\"https://github.com/AllenDowney/ThinkStats/raw/v3/data/2002FemResp.dat.gz\")"
      ]
    },
    {
      "cell_type": "markdown",
      "metadata": {
        "id": "9ca8w0mL43gI"
      },
      "source": [
        "El libro de códigos para el archivo de mujeres encuestadas se encuentra en <https://ftp.cdc.gov/pub/Health_Statistics/NCHS/Dataset_Documentation/NSFG/Cycle6Codebook-Female.pdf>."
      ]
    },
    {
      "cell_type": "markdown",
      "metadata": {
        "id": "1Y5saMMT46O3"
      },
      "source": [
        "El módulo `nsfg.py` proporciona una función que lee el archivo de mujeres encuestadas, limpia algunas de las variables y devuelve un `DataFrame`.\n",
        "\n"
      ]
    },
    {
      "cell_type": "code",
      "execution_count": 34,
      "metadata": {
        "id": "UYWwPVzH49TJ"
      },
      "outputs": [
        {
          "data": {
            "text/plain": [
              "(7643, 3092)"
            ]
          },
          "execution_count": 34,
          "metadata": {},
          "output_type": "execute_result"
        }
      ],
      "source": [
        "from nsfg import read_fem_resp\n",
        "\n",
        "resp = read_fem_resp()\n",
        "resp.shape"
      ]
    },
    {
      "cell_type": "markdown",
      "metadata": {
        "id": "XzKVRUYz46R7"
      },
      "source": [
        "Este `DataFrame` contiene 3092 columnas, pero solo utilizaremos algunas de ellas."
      ]
    },
    {
      "cell_type": "markdown",
      "metadata": {
        "id": "TtfPkO7x5QDv"
      },
      "source": [
        "### Ejercicio 1\n",
        "\n",
        "Comenzaremos con `totincr`, que registra los ingresos totales de la familia del encuestado, codificados con un valor del 1 al 14.\n",
        "Puede consultar el libro de códigos del archivo de encuestados para ver qué nivel de ingresos representa cada valor.\n",
        "\n",
        "```\n",
        "TOTINCR (4831 - 4832)\n",
        "\n",
        "Value Label           Total\n",
        "1     UNDER $5000     299\n",
        "2     $5000-$7499     301\n",
        "3     $7500-$9999     266\n",
        "4     $10,000-$12,499 421\n",
        "5     $12,500-$14,999 445\n",
        "6     $15,000-$19,999 559\n",
        "7     $20,000-$24,999 583\n",
        "8     $25,000-$29,999 606\n",
        "9     $30,000-$34,999 607\n",
        "10    $35,000-$39,999 468\n",
        "11    $40,000-$49,999 647\n",
        "12    $50,000-$59,000 658\n",
        "13    $60,000-$74,999 623\n",
        "14    $75,000 OR MORE 1160\n",
        "\n",
        "Total 7643\n",
        "```\n",
        "\n",
        "Cree un objeto `FreqTab` para representar la distribución de esta variable y represéntela en un **gráfico de barras**. Asegurese que la **cuenta de los distintos valores** corresponda con el archivo de encuestados."
      ]
    },
    {
      "cell_type": "code",
      "execution_count": 45,
      "metadata": {
        "id": "QkURNv7T5l9M"
      },
      "outputs": [
        {
          "data": {
            "text/plain": [
              "totincr\n",
              "1      299\n",
              "2      301\n",
              "3      266\n",
              "4      421\n",
              "5      445\n",
              "6      559\n",
              "7      583\n",
              "8      606\n",
              "9      607\n",
              "10     468\n",
              "11     647\n",
              "12     658\n",
              "13     623\n",
              "14    1160\n",
              "Name: count, dtype: int64"
            ]
          },
          "metadata": {},
          "output_type": "display_data"
        },
        {
          "data": {
            "image/png": "[encoded data removed]",
            "text/plain": [
              "<Figure size 450x262.5 with 1 Axes>"
            ]
          },
          "metadata": {},
          "output_type": "display_data"
        },
        {
          "name": "stdout",
          "output_type": "stream",
          "text": [
            "Total de registros: 7643\n"
          ]
        }
      ],
      "source": [
        "# Tu codigo va aqui\n",
        "# Crear el objeto FreqTab para la variable 'totincr'\n",
        "ftab_totincr = from_seq(resp['totincr'], convert_to=\"FreqTab\")\n",
        "\n",
        "# Mostrar la tabla de frecuencias\n",
        "display(ftab_totincr)\n",
        "\n",
        "# Graficar la distribución de frecuencias\n",
        "plot_bar(ftab_totincr, xlabel='Nivel de ingreso (totincr)', ylabel='Frecuencia', title='Distribución de ingresos totales (TOTINCR)')\n",
        "plt.show()\n",
        "\n",
        "# Verificar que la suma de frecuencias corresponde al total del libro de códigos\n",
        "print(\"Total de registros:\", ftab_totincr.sum())"
      ]
    },
    {
      "cell_type": "markdown",
      "metadata": {
        "id": "Vs_U91sAPnnj"
      },
      "source": [
        "### Ejercicio 2\n",
        "\n",
        "Elabora una tabla de frecuencias de la columna «paridad», `parity`, que registra el número de hijos que tiene cada encuestado.\n",
        "\n",
        "**¿Cómo describirías la forma de esta distribución?**\n"
      ]
    },
    {
      "cell_type": "code",
      "execution_count": 46,
      "metadata": {
        "id": "RY9-eyi7Pn58"
      },
      "outputs": [
        {
          "data": {
            "text/plain": [
              "parity\n",
              "0     3230\n",
              "1     1519\n",
              "2     1603\n",
              "3      828\n",
              "4      309\n",
              "5       95\n",
              "6       29\n",
              "7       15\n",
              "8        8\n",
              "9        2\n",
              "10       3\n",
              "16       1\n",
              "22       1\n",
              "Name: count, dtype: int64"
            ]
          },
          "metadata": {},
          "output_type": "display_data"
        },
        {
          "data": {
            "image/png": "[encoded data removed]",
            "text/plain": [
              "<Figure size 450x262.5 with 1 Axes>"
            ]
          },
          "metadata": {},
          "output_type": "display_data"
        }
      ],
      "source": [
        "# Tu codigo va aqui\n",
        "ftab_parity = from_seq(resp['parity'], convert_to=\"FreqTab\")\n",
        "\n",
        "# Mostrar la tabla de frecuencias\n",
        "display(ftab_parity)\n",
        "\n",
        "# Graficar la distribución de frecuencias\n",
        "plot_bar(ftab_parity, xlabel='Número de hijos (parity)', ylabel='Frecuencia', title='Distribución de paridad')\n",
        "plt.show()"
      ]
    },
    {
      "cell_type": "markdown",
      "metadata": {
        "id": "1x7h-1BrQCFn"
      },
      "source": [
        "```\n",
        "# Tu respuesta va aqui\n",
        "```\n",
        "La distribución de la variable parity es asimétrica y está sesgada a la derecha (positivamente), ya que la mayoría de las personas tienen pocos hijos y hay una cola hacia valores más altos de paridad."
      ]
    },
    {
      "cell_type": "markdown",
      "metadata": {
        "id": "DItr9p62QKsv"
      },
      "source": [
        "### Ejercicio 3\n",
        "\n",
        "Investigamos si las mujeres con ingresos más altos o más bajos tienen más hijos.\n",
        "Utilice el método de consulta para seleccionar a los encuestados con los ingresos más altos (nivel 14).\n",
        "\n",
        "\n",
        "Trace la tabla de frecuencias de `parity` solo para los encuestados con ingresos altos."
      ]
    },
    {
      "cell_type": "code",
      "execution_count": 47,
      "metadata": {
        "id": "YYdtarCKQdHx"
      },
      "outputs": [
        {
          "data": {
            "text/plain": [
              "parity\n",
              "0    515\n",
              "1    229\n",
              "2    267\n",
              "3    123\n",
              "4     19\n",
              "5      5\n",
              "7      1\n",
              "8      1\n",
              "Name: count, dtype: int64"
            ]
          },
          "metadata": {},
          "output_type": "display_data"
        },
        {
          "data": {
            "image/png": "[encoded data removed]",
            "text/plain": [
              "<Figure size 450x262.5 with 1 Axes>"
            ]
          },
          "metadata": {},
          "output_type": "display_data"
        }
      ],
      "source": [
        "# Tu codigo va aqui\n",
        "# Seleccionar encuestadas con ingresos más altos (nivel 14)\n",
        "altos_ingresos = resp[resp['totincr'] == 14]\n",
        "\n",
        "# Crear la tabla de frecuencias de 'parity' para este grupo\n",
        "ftab_parity_altos = from_seq(altos_ingresos['parity'], convert_to=\"FreqTab\")\n",
        "\n",
        "# Mostrar la tabla de frecuencias\n",
        "display(ftab_parity_altos)\n",
        "\n",
        "# Graficar la distribución de frecuencias\n",
        "plot_bar(ftab_parity_altos, xlabel='Número de hijos (parity)', ylabel='Frecuencia', title='Paridad en encuestadas con ingresos altos (nivel 14)')"
      ]
    },
    {
      "cell_type": "markdown",
      "metadata": {
        "id": "X_Wj63kDR47H"
      },
      "source": [
        "Compara la `media` de `parity` de las encuestadas con ingresos altos y las demás. Utiliza el metodo de `valor esperado`."
      ]
    },
    {
      "cell_type": "code",
      "execution_count": 49,
      "metadata": {
        "id": "-0kTkpuBSBB6"
      },
      "outputs": [
        {
          "name": "stdout",
          "output_type": "stream",
          "text": [
            "Media de parity (ingresos altos): 1.08\n"
          ]
        }
      ],
      "source": [
        "# Tu codigo va aqui\n",
        "# Media (valor esperado) de parity para encuestadas con ingresos altos (nivel 14)\n",
        "pmf_parity_altos = from_seq(altos_ingresos['parity'], convert_to=\"PMF\")\n",
        "media_altos = np.sum(get_ps(pmf_parity_altos) * get_qs(pmf_parity_altos))\n",
        "print(f\"Media de parity (ingresos altos): {media_altos:.2f}\")"
      ]
    },
    {
      "cell_type": "code",
      "execution_count": 50,
      "metadata": {
        "id": "lLYvxouXV-R3"
      },
      "outputs": [
        {
          "name": "stdout",
          "output_type": "stream",
          "text": [
            "Media de parity (otros ingresos): 1.25\n"
          ]
        }
      ],
      "source": [
        "# Tu codigo va aqui\n",
        "# Media (valor esperado) de parity para las demás encuestadas\n",
        "otros_ingresos = resp[resp['totincr'] != 14]\n",
        "pmf_parity_otros = from_seq(otros_ingresos['parity'], convert_to=\"PMF\")\n",
        "media_otros = np.sum(get_ps(pmf_parity_otros) * get_qs(pmf_parity_otros))\n",
        "\n",
        "print(f\"Media de parity (otros ingresos): {media_otros:.2f}\")"
      ]
    },
    {
      "cell_type": "markdown",
      "metadata": {
        "id": "Dsa1lJmQR5Il"
      },
      "source": [
        "**¿Estos resultados muestran que las personas con ingresos más altos tienen menos hijos, o se te ocurre otra explicación para la diferencia aparente?**\n",
        "\n",
        "Para ver si esto realmente es cierto podemos verificar esta diferencia calculando el **efecto Cohen** ([1](https://statisticsbyjim.com/basics/cohens-d/), [2](https://datatab.net/tutorial/effect-size-independent-t-test)), **verificar estas fuentes**.\n",
        "\n",
        "$$\n",
        "Cohens\\_diff = \\frac{\\mu_1 - \\mu_2}{\\sigma_{pooled}}\n",
        "$$"
      ]
    },
    {
      "cell_type": "markdown",
      "metadata": {
        "id": "OSdYq41pR4-F"
      },
      "source": [
        "Calcula el tamaño del **efecto de Cohen** para esta diferencia.\n",
        "\n",
        "* **¿Cómo se compara con la diferencia en la duración del embarazo para los primeros bebés y los demás?**\n",
        "* **¿Estos resultados muestran que las personas con ingresos más altos tienen menos hijos realmente?**"
      ]
    },
    {
      "cell_type": "code",
      "execution_count": 53,
      "metadata": {
        "id": "GhGoow6ZQRkQ"
      },
      "outputs": [
        {
          "name": "stdout",
          "output_type": "stream",
          "text": [
            "Efecto de Cohen (d): -0.13\n"
          ]
        }
      ],
      "source": [
        "def cohen_effect_size(group1, group2):\n",
        "  # Tu codigo va aqui\n",
        "  mean1 = np.mean(group1)\n",
        "  mean2 = np.mean(group2)\n",
        "  var1 = np.var(group1, ddof=1)\n",
        "  var2 = np.var(group2, ddof=1)\n",
        "  n1 = len(group1)\n",
        "  n2 = len(group2)\n",
        "  pooled_var = ((n1 - 1)*var1 + (n2 - 1)*var2) / (n1 + n2 - 2)\n",
        "  diff = mean1 - mean2\n",
        "  return diff / np.sqrt(pooled_var)\n",
        "\n",
        "# Valores de parity para ambos grupos\n",
        "parity_altos = altos_ingresos['parity'].dropna()\n",
        "parity_otros = otros_ingresos['parity'].dropna()\n",
        "\n",
        "# Calcular y mostrar el efecto de Cohen\n",
        "cohen_d = cohen_effect_size(parity_altos, parity_otros)\n",
        "print(f\"Efecto de Cohen (d): {cohen_d:.2f}\")"
      ]
    },
    {
      "cell_type": "code",
      "execution_count": 58,
      "metadata": {},
      "outputs": [
        {
          "data": {
            "text/plain": [
              "outcome\n",
              "1    9148\n",
              "2    1862\n",
              "3     120\n",
              "4    1921\n",
              "5     190\n",
              "6     352\n",
              "Name: count, dtype: int64"
            ]
          },
          "metadata": {},
          "output_type": "display_data"
        },
        {
          "data": {
            "image/png": "[encoded data removed]",
            "text/plain": [
              "<Figure size 450x262.5 with 1 Axes>"
            ]
          },
          "metadata": {},
          "output_type": "display_data"
        }
      ],
      "source": [
        "from nsfg import read_fem_preg\n",
        "preg = read_fem_preg()\n",
        "\n",
        "# Crear el objeto FreqTab para la variable 'outcome'\n",
        "ftab_outcome = from_seq(preg['outcome'], convert_to=\"FreqTab\")\n",
        "\n",
        "# Mostrar la tabla de frecuencias\n",
        "display(ftab_outcome)\n",
        "\n",
        "# Graficar la distribución de frecuencias\n",
        "plot_bar(ftab_outcome, xlabel='Valor de outcome', ylabel='Frecuencia', title='Distribución de outcome')"
      ]
    },
    {
      "cell_type": "code",
      "execution_count": 59,
      "metadata": {
        "id": "26XsshuhSBgA"
      },
      "outputs": [
        {
          "name": "stdout",
          "output_type": "stream",
          "text": [
            "Media duración embarazo (primeros bebés): 38.60 semanas\n",
            "Media duración embarazo (otros bebés): 38.52 semanas\n",
            "Efecto de Cohen (d): 0.03\n"
          ]
        }
      ],
      "source": [
        "# Tu codigo va aqui\n",
        "# Comparación de la duración del embarazo entre primeros bebés y los demás\n",
        "\n",
        "# Filtrar solo nacimientos vivos (outcome == 1)\n",
        "nacimientos_vivos = preg[preg['outcome'] == 1]\n",
        "\n",
        "# Separar primeros bebés (birthord == 1) y los demás (birthord > 1)\n",
        "primeros_bebes = nacimientos_vivos[nacimientos_vivos['birthord'] == 1]\n",
        "otros_bebes = nacimientos_vivos[nacimientos_vivos['birthord'] > 1]\n",
        "\n",
        "# Duración del embarazo en semanas (prglngth)\n",
        "duracion_primeros = primeros_bebes['prglngth'].dropna()\n",
        "duracion_otros = otros_bebes['prglngth'].dropna()\n",
        "\n",
        "# Calcular medias\n",
        "media_primeros = duracion_primeros.mean()\n",
        "media_otros = duracion_otros.mean()\n",
        "\n",
        "# Calcular efecto de Cohen\n",
        "def cohen_effect_size(group1, group2):\n",
        "    mean1 = np.mean(group1)\n",
        "    mean2 = np.mean(group2)\n",
        "    var1 = np.var(group1, ddof=1)\n",
        "    var2 = np.var(group2, ddof=1)\n",
        "    n1 = len(group1)\n",
        "    n2 = len(group2)\n",
        "    pooled_var = ((n1 - 1)*var1 + (n2 - 1)*var2) / (n1 + n2 - 2)\n",
        "    diff = mean1 - mean2\n",
        "    return diff / np.sqrt(pooled_var)\n",
        "\n",
        "cohen_d_embarazo = cohen_effect_size(duracion_primeros, duracion_otros)\n",
        "\n",
        "print(f\"Media duración embarazo (primeros bebés): {media_primeros:.2f} semanas\")\n",
        "print(f\"Media duración embarazo (otros bebés): {media_otros:.2f} semanas\")\n",
        "print(f\"Efecto de Cohen (d): {cohen_d_embarazo:.2f}\")"
      ]
    },
    {
      "cell_type": "markdown",
      "metadata": {
        "id": "mxLfx7DwdO_Y"
      },
      "source": [
        "```\n",
        "# Tu respuesta va aqui\n",
        "```\n",
        "**Comparación con la duración del embarazo:**  \n",
        "La diferencia en la media de la duración del embarazo entre primeros bebés (38.60 semanas) y los demás (38.52 semanas) es muy pequeña (0.08 semanas). El tamaño del efecto de Cohen (d = 0.03) es considerado **muy pequeño** o prácticamente nulo, lo que indica que no hay evidencia significativa de que la duración del embarazo sea diferente entre primeros bebés y los siguientes en estos datos.\n",
        "\n",
        "**Las Personas con ingresos mas grandes no necesariamte tienen mas hijos**\n",
        "El efecto de Cohen calculado es pequeño (d ≈ -0.13), lo que indica que la diferencia en el número de hijos entre mujeres con ingresos altos y el resto es baja. Esto sugiere que, aunque hay una diferencia en la media, no es grande ni necesariamente significativa. Además, pueden influir otros factores como la edad, educación o decisiones personales, por lo que no se puede concluir que el ingreso sea la causa principal. Aunque las mujeres con ingresos más altos parecen tener menos hijos en promedio, esto puede deberse a factores como la edad, educación o decisiones personales relacionadas con la carrera profesional."
      ]
    },
    {
      "cell_type": "markdown",
      "metadata": {
        "id": "k0Eu9Px6eoOD"
      },
      "source": [
        "### Ejercicio 4\n",
        "\n",
        "Seleccione la columna `numbabes`, que registra el *número de bebés nacidos vivos* de cada encuestado.\n",
        "Cree un objeto `FreqTab` y muestre las frecuencias de los valores de esta columna.\n",
        "Compruebe que coinciden con las frecuencias del [libro de códigos](https://ftp.cdc.gov/pub/Health_Statistics/NCHS/Dataset_Documentation/NSFG/Cycle6Codebook-Female.pdf).\n",
        "\n",
        "* **¿Hay algún valor atipico que deba sustituirse por `NaN` u omitirse?**\n",
        "\n",
        "\n",
        "A continuación, cree un objeto `Pmf` y represéntelo en un gráfico de barras.\n",
        "\n",
        "* **¿La distribución es simétrica, sesgada hacia la izquierda o sesgada hacia la derecha?**"
      ]
    },
    {
      "cell_type": "code",
      "execution_count": 62,
      "metadata": {
        "id": "KT36Jr08fHYA"
      },
      "outputs": [
        {
          "data": {
            "text/plain": [
              "numbabes\n",
              "0     3229\n",
              "1     1519\n",
              "2     1603\n",
              "3      828\n",
              "4      309\n",
              "5       95\n",
              "6       29\n",
              "7       15\n",
              "8        8\n",
              "9        2\n",
              "10       3\n",
              "16       1\n",
              "22       1\n",
              "97       1\n",
              "Name: count, dtype: int64"
            ]
          },
          "metadata": {},
          "output_type": "display_data"
        },
        {
          "name": "stdout",
          "output_type": "stream",
          "text": [
            "Valores únicos: [ 0  1  2  3  4  5  6  7  8  9 10 16 22 97]\n"
          ]
        }
      ],
      "source": [
        "# Tu codigo va aqui\n",
        "# Crear el objeto FreqTab para la variable 'numbabes'\n",
        "ftab_numbabes = from_seq(resp['numbabes'], convert_to=\"FreqTab\")\n",
        "\n",
        "# Mostrar la tabla de frecuencias\n",
        "display(ftab_numbabes)\n",
        "print(\"Valores únicos:\", ftab_numbabes.index.values)"
      ]
    },
    {
      "cell_type": "code",
      "execution_count": 67,
      "metadata": {
        "id": "Z3kYw_mTV6Qt"
      },
      "outputs": [
        {
          "name": "stdout",
          "output_type": "stream",
          "text": [
            "Valores únicos: [ 0  1  2  3  4  5  6  7  8  9 10 16 22 97]\n",
            "Valores únicos: [ 0.  1.  2.  3.  4.  5.  6.  7.  8.  9. 10.]\n"
          ]
        }
      ],
      "source": [
        "# Tu codigo va aqui\n",
        "# Verificar valores atípicos (por ejemplo, valores muy altos o negativos)\n",
        "print(\"Valores únicos:\", ftab_numbabes.index.values)\n",
        "resp['numbabes'] = resp['numbabes'].replace([97,22,16], np.nan)\n",
        "\n",
        "# Crear el objeto PMF para la variable 'numbabes'\n",
        "pmf_numbabes = from_seq(resp['numbabes'], convert_to=\"PMF\")\n",
        "\n",
        "print(\"Valores únicos:\", pmf_numbabes.index.values)"
      ]
    },
    {
      "cell_type": "code",
      "execution_count": 68,
      "metadata": {
        "id": "zZFmeCK6V6TV"
      },
      "outputs": [
        {
          "data": {
            "image/png": "[encoded data removed]",
            "text/plain": [
              "<Figure size 450x262.5 with 1 Axes>"
            ]
          },
          "metadata": {},
          "output_type": "display_data"
        }
      ],
      "source": [
        "# Tu codigo va aqui\n",
        "# Graficar la distribución de probabilidades\n",
        "plot_bar(pmf_numbabes, xlabel='Número de bebés nacidos vivos (numbabes)', ylabel='Probabilidad', title='Distribución PMF de numbabes')\n",
        "plt.show()"
      ]
    },
    {
      "cell_type": "markdown",
      "metadata": {},
      "source": [
        "**La grafica Muestra una distribucion asimetrica, sesgada hacia la izquierda**"
      ]
    }
  ],
  "metadata": {
    "colab": {
      "provenance": []
    },
    "kernelspec": {
      "display_name": "base",
      "language": "python",
      "name": "python3"
    },
    "language_info": {
      "codemirror_mode": {
        "name": "ipython",
        "version": 3
      },
      "file_extension": ".py",
      "mimetype": "text/x-python",
      "name": "python",
      "nbconvert_exporter": "python",
      "pygments_lexer": "ipython3",
      "version": "3.12.7"
    }
  },
  "nbformat": 4,
  "nbformat_minor": 0
}
