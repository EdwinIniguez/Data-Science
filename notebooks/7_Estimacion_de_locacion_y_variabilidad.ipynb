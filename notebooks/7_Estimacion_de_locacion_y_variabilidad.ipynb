{
  "cells": [
    {
      "cell_type": "markdown",
      "metadata": {
        "id": "TPGCoQbtOuiM"
      },
      "source": [
        "#Estimaciones de localización\n",
        "\n",
        " Las variables con datos medidos o de recuento pueden tener miles de valores distintos.\n",
        "\n",
        " Un paso básico en la exploración de sus datos es obtener un **valor típico** para cada característica (variable): una estimación de dónde se encuentra la mayoría de los datos (es decir, su **tendencia central**)."
      ]
    },
    {
      "cell_type": "code",
      "execution_count": 2,
      "metadata": {
        "id": "LdEO9zOpr859"
      },
      "outputs": [],
      "source": [
        "import pandas as pd\n",
        "import numpy as np"
      ]
    },
    {
      "cell_type": "code",
      "execution_count": 3,
      "metadata": {
        "id": "xAzdpBzor-mA"
      },
      "outputs": [],
      "source": [
        "URL = \"https://raw.githubusercontent.com/Ahmiii/Practical-Statistics-For-Data-Scientist-50-Essiential-Concept/refs/heads/master/state.csv\"\n",
        "data=pd.read_csv(URL)"
      ]
    },
    {
      "cell_type": "code",
      "execution_count": 4,
      "metadata": {
        "colab": {
          "base_uri": "https://localhost:8080/",
          "height": 206
        },
        "id": "MyWno4QNr_2v",
        "outputId": "61283660-afe9-434b-eb7a-990a6ffbe65a"
      },
      "outputs": [
        {
          "data": {
            "text/html": [
              "<div>\n",
              "<style scoped>\n",
              "    .dataframe tbody tr th:only-of-type {\n",
              "        vertical-align: middle;\n",
              "    }\n",
              "\n",
              "    .dataframe tbody tr th {\n",
              "        vertical-align: top;\n",
              "    }\n",
              "\n",
              "    .dataframe thead th {\n",
              "        text-align: right;\n",
              "    }\n",
              "</style>\n",
              "<table border=\"1\" class=\"dataframe\">\n",
              "  <thead>\n",
              "    <tr style=\"text-align: right;\">\n",
              "      <th></th>\n",
              "      <th>State</th>\n",
              "      <th>Population</th>\n",
              "      <th>Murder.Rate</th>\n",
              "      <th>Abbreviation</th>\n",
              "    </tr>\n",
              "  </thead>\n",
              "  <tbody>\n",
              "    <tr>\n",
              "      <th>0</th>\n",
              "      <td>Alabama</td>\n",
              "      <td>4779736</td>\n",
              "      <td>5.7</td>\n",
              "      <td>AL</td>\n",
              "    </tr>\n",
              "    <tr>\n",
              "      <th>1</th>\n",
              "      <td>Alaska</td>\n",
              "      <td>710231</td>\n",
              "      <td>5.6</td>\n",
              "      <td>AK</td>\n",
              "    </tr>\n",
              "    <tr>\n",
              "      <th>2</th>\n",
              "      <td>Arizona</td>\n",
              "      <td>6392017</td>\n",
              "      <td>4.7</td>\n",
              "      <td>AZ</td>\n",
              "    </tr>\n",
              "    <tr>\n",
              "      <th>3</th>\n",
              "      <td>Arkansas</td>\n",
              "      <td>2915918</td>\n",
              "      <td>5.6</td>\n",
              "      <td>AR</td>\n",
              "    </tr>\n",
              "    <tr>\n",
              "      <th>4</th>\n",
              "      <td>California</td>\n",
              "      <td>37253956</td>\n",
              "      <td>4.4</td>\n",
              "      <td>CA</td>\n",
              "    </tr>\n",
              "  </tbody>\n",
              "</table>\n",
              "</div>"
            ],
            "text/plain": [
              "        State  Population  Murder.Rate Abbreviation\n",
              "0     Alabama     4779736          5.7           AL\n",
              "1      Alaska      710231          5.6           AK\n",
              "2     Arizona     6392017          4.7           AZ\n",
              "3    Arkansas     2915918          5.6           AR\n",
              "4  California    37253956          4.4           CA"
            ]
          },
          "execution_count": 4,
          "metadata": {},
          "output_type": "execute_result"
        }
      ],
      "source": [
        "# Imprime los primeros elementos de la tabla\n",
        "data.head()"
      ]
    },
    {
      "cell_type": "code",
      "execution_count": 5,
      "metadata": {
        "colab": {
          "base_uri": "https://localhost:8080/",
          "height": 209
        },
        "id": "mYW7-nMbr_7b",
        "outputId": "27ccd80d-d393-49bb-c47e-90479b815024"
      },
      "outputs": [
        {
          "data": {
            "text/plain": [
              "State            object\n",
              "Population        int64\n",
              "Murder.Rate     float64\n",
              "Abbreviation     object\n",
              "dtype: object"
            ]
          },
          "execution_count": 5,
          "metadata": {},
          "output_type": "execute_result"
        }
      ],
      "source": [
        "data.dtypes"
      ]
    },
    {
      "cell_type": "code",
      "execution_count": 6,
      "metadata": {
        "colab": {
          "base_uri": "https://localhost:8080/"
        },
        "id": "PSQzvG14r_9j",
        "outputId": "4c4c9aaf-a440-4216-e7dc-3a5deb1320df"
      },
      "outputs": [
        {
          "data": {
            "text/plain": [
              "50"
            ]
          },
          "execution_count": 6,
          "metadata": {},
          "output_type": "execute_result"
        }
      ],
      "source": [
        "data.State.value_counts().sum().item()"
      ]
    },
    {
      "cell_type": "markdown",
      "metadata": {
        "id": "h45yym61u8PY"
      },
      "source": [
        "Podemos calcular la **media** y la **mediana** de la poblacion (`Population`) a traves de los métodos incluidos  `pandas` del `dataframe`. i.e., `.mean()` y `.median()`."
      ]
    },
    {
      "cell_type": "code",
      "execution_count": 7,
      "metadata": {
        "colab": {
          "base_uri": "https://localhost:8080/"
        },
        "id": "ZAHf4yXBEprQ",
        "outputId": "22842f52-84b7-4a9f-9216-5c73326dbd5d"
      },
      "outputs": [
        {
          "data": {
            "text/plain": [
              "6162876.3"
            ]
          },
          "execution_count": 7,
          "metadata": {},
          "output_type": "execute_result"
        }
      ],
      "source": [
        "# Tu codigo va aqui\n",
        "media = data['Population'].mean()\n",
        "media"
      ]
    },
    {
      "cell_type": "code",
      "execution_count": 8,
      "metadata": {
        "colab": {
          "base_uri": "https://localhost:8080/"
        },
        "id": "KX_WH6jSEqNs",
        "outputId": "80e4d842-7343-40b9-f0ce-ba40fe79cfe0"
      },
      "outputs": [
        {
          "data": {
            "text/plain": [
              "4436369.5"
            ]
          },
          "execution_count": 8,
          "metadata": {},
          "output_type": "execute_result"
        }
      ],
      "source": [
        "# Tu codigo va aqui\n",
        "mediana = data['Population'].median()\n",
        "mediana"
      ]
    },
    {
      "cell_type": "markdown",
      "metadata": {
        "id": "3Xpj_30gvITh"
      },
      "source": [
        "La **media recortada** (Trimmed mean) requiere la función **`trim_mean`** en **`scipy.stats`**, podemos utilizar la variable `proportiontocut` para elegir la proporcion a cortar:"
      ]
    },
    {
      "cell_type": "code",
      "execution_count": 9,
      "metadata": {
        "id": "AYyAZ463BSFp"
      },
      "outputs": [],
      "source": [
        "from scipy import stats"
      ]
    },
    {
      "cell_type": "code",
      "execution_count": 10,
      "metadata": {
        "colab": {
          "base_uri": "https://localhost:8080/"
        },
        "id": "kZJTTPPCEKlY",
        "outputId": "caeceaeb-0918-484a-9d70-9a3b9b0db09e"
      },
      "outputs": [
        {
          "data": {
            "text/plain": [
              "4783697.125"
            ]
          },
          "execution_count": 10,
          "metadata": {},
          "output_type": "execute_result"
        }
      ],
      "source": [
        "# Tu codigo va aqui\n",
        "media_recortada = stats.trim_mean(data['Population'], 0.1)\n",
        "media_recortada"
      ]
    },
    {
      "cell_type": "markdown",
      "metadata": {
        "id": "5Gcgq8O8vMqU"
      },
      "source": [
        "La **media** es mayor que la **media recortada** (Trimmed mean), que es mayor que la **mediana**.\n",
        "\n",
        "Esto se debe a que la **media recortada** excluye los valores más grandes y más pequeños (elimina un porcentaje de cada extremo). Si queremos calcular la **tasa media** de homicidios del país, tenemos que utilizar una **media ponderada** o una **mediana** para tener en cuenta las diferentes poblaciones de los estados."
      ]
    },
    {
      "cell_type": "markdown",
      "metadata": {
        "id": "QtOdrKD9v58B"
      },
      "source": [
        " La **media ponderada** está disponible con **`NumPy`**.\n"
      ]
    },
    {
      "cell_type": "code",
      "execution_count": 11,
      "metadata": {
        "colab": {
          "base_uri": "https://localhost:8080/"
        },
        "id": "I_H23Se0sJM4",
        "outputId": "ddf6a1ca-b6b1-403e-a65e-e49716a41208"
      },
      "outputs": [
        {
          "data": {
            "text/plain": [
              "4.445833981123393"
            ]
          },
          "execution_count": 11,
          "metadata": {},
          "output_type": "execute_result"
        }
      ],
      "source": [
        "np.average(data['Murder.Rate'], weights=data.Population).item()"
      ]
    },
    {
      "cell_type": "markdown",
      "metadata": {
        "id": "McwxQHl2vjFv"
      },
      "source": [
        "Para la **mediana ponderada** (Weighted median), podemos utilizar el paquete especializado **`wquantiles`**, donde podemos encontrar la funcion `.median()`, donde tenemos la variable `weights` para calcular la ponderacion de acuerdo con la poblacion:"
      ]
    },
    {
      "cell_type": "code",
      "execution_count": 12,
      "metadata": {
        "id": "CJFDTUehH-bR"
      },
      "outputs": [
        {
          "name": "stdout",
          "output_type": "stream",
          "text": [
            "Collecting wquantiles\n",
            "  Downloading wquantiles-0.6-py3-none-any.whl.metadata (1.1 kB)\n",
            "Requirement already satisfied: numpy>=1.18 in c:\\users\\edosa\\anaconda3\\lib\\site-packages (from wquantiles) (1.26.4)\n",
            "Downloading wquantiles-0.6-py3-none-any.whl (3.3 kB)\n",
            "Installing collected packages: wquantiles\n",
            "Successfully installed wquantiles-0.6\n",
            "Note: you may need to restart the kernel to use updated packages.\n"
          ]
        }
      ],
      "source": [
        "try:\n",
        "    import wquantiles\n",
        "except ImportError:\n",
        "    %pip install wquantiles\n",
        "    import wquantiles"
      ]
    },
    {
      "cell_type": "code",
      "execution_count": 13,
      "metadata": {
        "colab": {
          "base_uri": "https://localhost:8080/"
        },
        "id": "7fSTjihEIhty",
        "outputId": "34503e52-fb3f-4075-b1fa-7c26da32b9f0"
      },
      "outputs": [
        {
          "data": {
            "text/plain": [
              "4.4"
            ]
          },
          "execution_count": 13,
          "metadata": {},
          "output_type": "execute_result"
        }
      ],
      "source": [
        "# Tu codigo va aqui\n",
        "media_ponderada = wquantiles.median(data['Murder.Rate'], weights=data.Population)\n",
        "media_ponderada"
      ]
    },
    {
      "cell_type": "markdown",
      "metadata": {
        "id": "NIvkqtEHweNC"
      },
      "source": [
        "En este caso, la **media ponderada** y la **mediana ponderada** son prácticamente iguales."
      ]
    },
    {
      "cell_type": "markdown",
      "metadata": {
        "id": "ERl5NDzOytZD"
      },
      "source": [
        "---\n",
        "\n",
        "# Estimaciones de Variabilidad\n",
        "El dataframe de `pandas` proporciona métodos para calcular la **desviación estándar** y los **cuantiles**."
      ]
    },
    {
      "cell_type": "code",
      "execution_count": 14,
      "metadata": {
        "id": "BrRLZI6Jy8x5"
      },
      "outputs": [],
      "source": [
        "import seaborn as sns\n",
        "import matplotlib.pyplot as plt"
      ]
    },
    {
      "cell_type": "markdown",
      "metadata": {
        "id": "3GSMKD-BZZMc"
      },
      "source": [
        "Empecemos con la funcion de calculo de la **desviación estándar** para la **poblacion** (`population`) , podemos utilizar la funcion nativa `.std()` de `pandas`:"
      ]
    },
    {
      "cell_type": "code",
      "execution_count": 15,
      "metadata": {
        "colab": {
          "base_uri": "https://localhost:8080/"
        },
        "id": "FjlpA73cZfQt",
        "outputId": "f86214ba-8764-48c9-bf09-e3a4ecb7b018"
      },
      "outputs": [
        {
          "data": {
            "text/plain": [
              "6848235.347401142"
            ]
          },
          "execution_count": 15,
          "metadata": {},
          "output_type": "execute_result"
        }
      ],
      "source": [
        "# Tu codigo va aqui\n",
        "desviacion = data['Population'].std()\n",
        "desviacion"
      ]
    },
    {
      "cell_type": "markdown",
      "metadata": {
        "id": "qsMkQU660H0t"
      },
      "source": [
        " Para la **Desviacion Absoluta de la Mediana** (MAD) robusta para la **poblacion** (`population`), utilizamos la función `robust.scale.mad` de la libreria `statsmodels`:"
      ]
    },
    {
      "cell_type": "code",
      "execution_count": 16,
      "metadata": {
        "id": "fytQ_KHJZiDQ"
      },
      "outputs": [],
      "source": [
        "from statsmodels import robust"
      ]
    },
    {
      "cell_type": "code",
      "execution_count": 17,
      "metadata": {
        "colab": {
          "base_uri": "https://localhost:8080/"
        },
        "id": "bQhM5UbnZgsc",
        "outputId": "75283205-701e-4d65-e2e1-c0055075ef2d"
      },
      "outputs": [
        {
          "data": {
            "text/plain": [
              "3849876.1459979336"
            ]
          },
          "execution_count": 17,
          "metadata": {},
          "output_type": "execute_result"
        }
      ],
      "source": [
        "# Tu codigo va aqui\n",
        "mad = robust.scale.mad(data['Population'])\n",
        "mad"
      ]
    },
    {
      "cell_type": "markdown",
      "metadata": {
        "id": "1TqwTTf_zp1D"
      },
      "source": [
        "La **desviación estándar** es casi dos veces mayor que la **MAD**. Esto no es sorprendente, ya que la **desviación típica** es sensible a los valores atípicos (*outliers*)."
      ]
    },
    {
      "cell_type": "markdown",
      "metadata": {
        "id": "VZZhHvFFPAIX"
      },
      "source": [
        "\n",
        "\n",
        "---\n",
        "\n",
        "# Explorar la distribución de los datos\n",
        "\n",
        "Cada una de las estimaciones que hemos cubierto resume los datos en un único número para describir la **localización** o **variabilidad** de los datos. También es útil explorar cómo se **distribuyen** los datos en general."
      ]
    },
    {
      "cell_type": "markdown",
      "metadata": {
        "id": "8lnazEFl0kF_"
      },
      "source": [
        "## Percentiles y Boxplots\n",
        "\n",
        "Hemos explorado cómo se pueden utilizar los **percentiles** para medir la **dispersión de los datos**. Los **percentiles** también son valiosos para resumir toda la distribución. Es común informar de los **cuartiles** (percentiles 25, 50 y 75) y los **deciles** (percentiles 10, 20, ..., 90).\n",
        "\n",
        "Los **percentiles** son especialmente valiosos para resumir las colas (el rango exterior) de la distribución.\n",
        "\n",
        "Por ejemplo, La cultura popular ha acuñado el término **\"unos por cientos\"** (one-percenters) para referirse a las personas que se encuentran en el **percentil 99** de riqueza."
      ]
    },
    {
      "cell_type": "markdown",
      "metadata": {
        "id": "cwdOpo_B08RU"
      },
      "source": [
        "Podemos mostrar algunos **percentiles** de la *tasa de homicidios por estado*. El método **`.quantile()`** del *dataframe* de **`pandas`** lo proporciona en Python, que puede recibir una lista de los cuantiles que queremos ver.\n",
        "\n",
        "Apliquemos esta herramienta para ver la distribucion del **`Murder.Rate`** en los conjuntos de datos para los cuantiles `[0.05, 0.25, 0.5, 0.75, 0.95]`:"
      ]
    },
    {
      "cell_type": "code",
      "execution_count": 18,
      "metadata": {
        "colab": {
          "base_uri": "https://localhost:8080/",
          "height": 241
        },
        "id": "OAxGcH9vbOgr",
        "outputId": "dd41a43c-4d96-4f50-bf92-d141c93d571e"
      },
      "outputs": [
        {
          "data": {
            "text/plain": [
              "0.05    1.600\n",
              "0.25    2.425\n",
              "0.50    4.000\n",
              "0.75    5.550\n",
              "0.95    6.510\n",
              "Name: Murder.Rate, dtype: float64"
            ]
          },
          "execution_count": 18,
          "metadata": {},
          "output_type": "execute_result"
        }
      ],
      "source": [
        "# Tu codigo va aqui\n",
        "data['Murder.Rate'].quantile([0.05, 0.25, 0.5, 0.75, 0.95])"
      ]
    },
    {
      "cell_type": "markdown",
      "metadata": {
        "id": "2ML-0IqJ1Msn"
      },
      "source": [
        "Con esta herramienta es que la **mediana** es de 4 asesinatos por cada 100,000 habitantes, aunque hay bastante variabilidad, lo podemos ver comparando del percentil 5 al percentil 95.\n",
        "\n",
        "Los **gráficos de caja** (**box plots**) se basan en los **percentiles** y permiten visualizar rápidamente la distribución de los datos."
      ]
    },
    {
      "cell_type": "code",
      "execution_count": 19,
      "metadata": {
        "colab": {
          "base_uri": "https://localhost:8080/",
          "height": 544
        },
        "id": "RGUKpbd9noO4",
        "outputId": "ff8dea3f-e81b-433c-a1a4-de0e790766bd"
      },
      "outputs": [
        {
          "data": {
            "image/png": "[encoded data removed]",
            "text/plain": [
              "<Figure size 800x600 with 1 Axes>"
            ]
          },
          "metadata": {},
          "output_type": "display_data"
        }
      ],
      "source": [
        "ax = (data['Population'] / 1_000_000).plot.hist(figsize=(8, 6))\n",
        "ax.set_xlabel('Population (millions)')\n",
        "plt.show()"
      ]
    },
    {
      "cell_type": "markdown",
      "metadata": {
        "id": "MMXSMNRon3if"
      },
      "source": [
        "La libreria `pandas` tambien cuenta con la funcion **`.plot.box()`**. Muestra la distribucion de la poblacion (`Population`) en escala en **millones**, originalmente los datos no tienen una escala:"
      ]
    },
    {
      "cell_type": "code",
      "execution_count": 20,
      "metadata": {
        "colab": {
          "base_uri": "https://localhost:8080/",
          "height": 462
        },
        "id": "gQVDS0mmdUJv",
        "outputId": "1af5da0b-c2a9-4877-c03f-250e385d5523"
      },
      "outputs": [
        {
          "data": {
            "text/plain": [
              "<Axes: >"
            ]
          },
          "execution_count": 20,
          "metadata": {},
          "output_type": "execute_result"
        },
        {
          "data": {
            "image/png": "[encoded data removed]",
            "text/plain": [
              "<Figure size 640x480 with 1 Axes>"
            ]
          },
          "metadata": {},
          "output_type": "display_data"
        }
      ],
      "source": [
        "# Tu codigo va aqui\n",
        "data['Population'].plot.box()"
      ]
    },
    {
      "cell_type": "markdown",
      "metadata": {
        "id": "-FYfJeBa1487"
      },
      "source": [
        "De este **boxplot** se desprende inmediatamente que la **población media** de los estados ronda los 5 millones, que la mitad de los estados se sitúan entre los 2 y los 7 millones, y que hay algunos valores atípicos (*outliers*) de población elevada.\n",
        "\n",
        "La parte superior e inferior del recuadro son los **percentiles** 75 y 25, respectivamente.\n",
        "\n",
        "La **mediana** es la línea horizontal del recuadro.\n",
        "\n",
        "Las líneas discontinuas (líneas verticales), denominadas bigotes (*whiskers*), se extienden desde la parte superior e inferior del recuadro para indicar el intervalo de la mayor parte de los datos.  Los datos que quedan fuera de los *bigotes* se representan como puntos aislados o círculos (a menudo considerados *valores atípicos*)."
      ]
    },
    {
      "cell_type": "markdown",
      "metadata": {
        "id": "YpyRBlJlf623"
      },
      "source": [
        "Ahora intentemos realizar el mismo ejercicio pero ahora aplicado al **`Murder.Rate`**:"
      ]
    },
    {
      "cell_type": "code",
      "execution_count": 21,
      "metadata": {
        "colab": {
          "base_uri": "https://localhost:8080/",
          "height": 447
        },
        "id": "57gnTqNihpVN",
        "outputId": "cfb28c6a-e041-4afa-f44a-6541244957cb"
      },
      "outputs": [
        {
          "data": {
            "text/plain": [
              "<Axes: >"
            ]
          },
          "execution_count": 21,
          "metadata": {},
          "output_type": "execute_result"
        },
        {
          "data": {
            "image/png": "[encoded data removed]",
            "text/plain": [
              "<Figure size 640x480 with 1 Axes>"
            ]
          },
          "metadata": {},
          "output_type": "display_data"
        }
      ],
      "source": [
        "# Tu codigo va aqui\n",
        "data['Murder.Rate'].plot.box()"
      ]
    },
    {
      "cell_type": "markdown",
      "metadata": {
        "id": "IrH7Q39Hg-Oq"
      },
      "source": [
        "## Metodos de deteccion de outliers\n",
        "\n",
        "A continuación, utilicemos dos metodologias para poder detectar ouliers:\n",
        "* Rango Intercuartil (IQR)\n",
        "* Desviacion estándar"
      ]
    },
    {
      "cell_type": "code",
      "execution_count": 22,
      "metadata": {
        "colab": {
          "base_uri": "https://localhost:8080/",
          "height": 542
        },
        "id": "7GVhQqHEm-_4",
        "outputId": "77e09234-9eb1-4f36-a852-7f898d580438"
      },
      "outputs": [
        {
          "data": {
            "image/png": "[encoded data removed]",
            "text/plain": [
              "<Figure size 800x600 with 1 Axes>"
            ]
          },
          "metadata": {},
          "output_type": "display_data"
        }
      ],
      "source": [
        "plt.figure(figsize=(8, 6))\n",
        "ax = data[\"Murder.Rate\"].plot.hist(density=True, xlim=[0,12], bins=range(1,12))\n",
        "data[\"Murder.Rate\"].plot.density(ax=ax)\n",
        "ax.set_xlabel(\"Murder Rate (per 100,000)\")\n",
        "plt.show()"
      ]
    },
    {
      "cell_type": "markdown",
      "metadata": {
        "id": "vBHPVM2-jXId"
      },
      "source": [
        "Recordemos que para calcular rango intercuartil (IQR) es necesario saber el cuartil 3 (Q3) y el cuartil 1 (Q1):\n",
        "$$\n",
        "IQR = Q3 - Q1\n",
        "$$\n",
        "\n",
        "Recordemos tambien que para encontrar la cota superior y la inferior es necesario calcular:\n",
        "$$\n",
        "Upper = Q3 + 1.5 \\times IQR\n",
        "$$\n",
        "\n",
        "$$\n",
        "Lower = Q1 - 1.5 \\times IQR\n",
        "$$"
      ]
    },
    {
      "cell_type": "code",
      "execution_count": 23,
      "metadata": {
        "colab": {
          "base_uri": "https://localhost:8080/"
        },
        "id": "FfV-dJBTg726",
        "outputId": "a0098c22-2703-4e1a-8f7e-38ea468b4d99"
      },
      "outputs": [
        {
          "name": "stdout",
          "output_type": "stream",
          "text": [
            "Cota superior: 10.2375\n",
            "Cota inferior: -2.2625\n"
          ]
        }
      ],
      "source": [
        "# Tu codigo va aqui\n",
        "q3=data['Murder.Rate'].quantile(0.75)\n",
        "q1=data['Murder.Rate'].quantile(0.25)\n",
        "iqr = q3 - q1\n",
        "upper = q3 + 1.5 * iqr\n",
        "lower = q1 - 1.5 * iqr\n",
        "print(f\"Cota superior: {upper}\")\n",
        "print(f\"Cota inferior: {lower}\")"
      ]
    },
    {
      "cell_type": "markdown",
      "metadata": {
        "id": "iZv0k-tLj54X"
      },
      "source": [
        "una vez obtenido las cotas superiores e inferiores, filtre de los datos aquella columnas que esten fuera de estas cotas para descubrir los outliers:"
      ]
    },
    {
      "cell_type": "code",
      "execution_count": 24,
      "metadata": {
        "colab": {
          "base_uri": "https://localhost:8080/",
          "height": 81
        },
        "id": "9xelYwvokOX8",
        "outputId": "5398c35c-36e5-47a9-ce31-21149a28a8a1"
      },
      "outputs": [
        {
          "data": {
            "text/html": [
              "<div>\n",
              "<style scoped>\n",
              "    .dataframe tbody tr th:only-of-type {\n",
              "        vertical-align: middle;\n",
              "    }\n",
              "\n",
              "    .dataframe tbody tr th {\n",
              "        vertical-align: top;\n",
              "    }\n",
              "\n",
              "    .dataframe thead th {\n",
              "        text-align: right;\n",
              "    }\n",
              "</style>\n",
              "<table border=\"1\" class=\"dataframe\">\n",
              "  <thead>\n",
              "    <tr style=\"text-align: right;\">\n",
              "      <th></th>\n",
              "      <th>State</th>\n",
              "      <th>Population</th>\n",
              "      <th>Murder.Rate</th>\n",
              "      <th>Abbreviation</th>\n",
              "    </tr>\n",
              "  </thead>\n",
              "  <tbody>\n",
              "    <tr>\n",
              "      <th>17</th>\n",
              "      <td>Louisiana</td>\n",
              "      <td>4533372</td>\n",
              "      <td>10.3</td>\n",
              "      <td>LA</td>\n",
              "    </tr>\n",
              "  </tbody>\n",
              "</table>\n",
              "</div>"
            ],
            "text/plain": [
              "        State  Population  Murder.Rate Abbreviation\n",
              "17  Louisiana     4533372         10.3           LA"
            ]
          },
          "execution_count": 24,
          "metadata": {},
          "output_type": "execute_result"
        }
      ],
      "source": [
        "# Tu codigo va aqui\n",
        "data[(data['Murder.Rate']>upper) | (data['Murder.Rate']<lower)]"
      ]
    },
    {
      "cell_type": "markdown",
      "metadata": {
        "id": "QI6ANGcOkZQH"
      },
      "source": [
        "Para el metodo de la desviacion estandar recordemos que la cota superior y la inferior se calcula como:\n",
        "$$\n",
        "Upper = \\bar{x} + k \\times \\sigma\n",
        "$$\n",
        "\n",
        "$$\n",
        "Lower = \\bar{x} - k \\times \\sigma\n",
        "$$\n",
        "\n",
        "tradicionalmente, $k=3$ para la deteccion de outliers."
      ]
    },
    {
      "cell_type": "code",
      "execution_count": 25,
      "metadata": {
        "colab": {
          "base_uri": "https://localhost:8080/"
        },
        "id": "DMfC9SUzlbgL",
        "outputId": "2f97d109-b08f-4f86-ae32-3793d6fafdc0"
      },
      "outputs": [
        {
          "name": "stdout",
          "output_type": "stream",
          "text": [
            "Cota superior: 9.813208372908768\n",
            "Cota inferior: -1.6812083729087695\n"
          ]
        }
      ],
      "source": [
        "# Tu codigo va aqui\n",
        "upper = data['Murder.Rate'].mean() + 3 * data['Murder.Rate'].std()\n",
        "lower = data['Murder.Rate'].mean() - 3 * data['Murder.Rate'].std()\n",
        "print(f\"Cota superior: {upper}\")\n",
        "print(f\"Cota inferior: {lower}\")"
      ]
    },
    {
      "cell_type": "markdown",
      "metadata": {
        "id": "aVmcU_xAmAWf"
      },
      "source": [
        "Compare el valor de las cotas superiores e inferiores calculados por los dos metodos.\n",
        "\n",
        "<br>\n",
        "\n",
        "Nuevamente, filtre de los datos aquella columnas que esten fuera de estas cotas para descubrir los outliers:"
      ]
    },
    {
      "cell_type": "code",
      "execution_count": 26,
      "metadata": {
        "colab": {
          "base_uri": "https://localhost:8080/",
          "height": 81
        },
        "id": "ftkB8DucmAlh",
        "outputId": "1dcad613-bd7e-45ef-e202-c9fd5f480fbe"
      },
      "outputs": [
        {
          "data": {
            "text/html": [
              "<div>\n",
              "<style scoped>\n",
              "    .dataframe tbody tr th:only-of-type {\n",
              "        vertical-align: middle;\n",
              "    }\n",
              "\n",
              "    .dataframe tbody tr th {\n",
              "        vertical-align: top;\n",
              "    }\n",
              "\n",
              "    .dataframe thead th {\n",
              "        text-align: right;\n",
              "    }\n",
              "</style>\n",
              "<table border=\"1\" class=\"dataframe\">\n",
              "  <thead>\n",
              "    <tr style=\"text-align: right;\">\n",
              "      <th></th>\n",
              "      <th>State</th>\n",
              "      <th>Population</th>\n",
              "      <th>Murder.Rate</th>\n",
              "      <th>Abbreviation</th>\n",
              "    </tr>\n",
              "  </thead>\n",
              "  <tbody>\n",
              "    <tr>\n",
              "      <th>17</th>\n",
              "      <td>Louisiana</td>\n",
              "      <td>4533372</td>\n",
              "      <td>10.3</td>\n",
              "      <td>LA</td>\n",
              "    </tr>\n",
              "  </tbody>\n",
              "</table>\n",
              "</div>"
            ],
            "text/plain": [
              "        State  Population  Murder.Rate Abbreviation\n",
              "17  Louisiana     4533372         10.3           LA"
            ]
          },
          "execution_count": 26,
          "metadata": {},
          "output_type": "execute_result"
        }
      ],
      "source": [
        "# Tu codigo va aqui\n",
        "data[(data['Murder.Rate']>upper) | (data['Murder.Rate']<lower)]"
      ]
    },
    {
      "cell_type": "markdown",
      "metadata": {
        "id": "gDwRweSCqR1Z"
      },
      "source": [
        "---\n",
        "---\n",
        "---\n",
        "# PART 2\n",
        "\n",
        "# Transformacion de variables"
      ]
    },
    {
      "cell_type": "code",
      "execution_count": 27,
      "metadata": {
        "id": "4oevuJtHrb74"
      },
      "outputs": [],
      "source": [
        "from scipy.stats import norm, uniform, skewnorm\n",
        "import numpy as np\n",
        "import matplotlib.pyplot as plt"
      ]
    },
    {
      "cell_type": "markdown",
      "metadata": {
        "id": "RaVqrgXCqekH"
      },
      "source": [
        "## Distribuciones asimetricas (sesgado a la derecha - positiva)\n",
        "\n",
        "A continuacion se muestra el histrograma de la distribucion de 10,000 muestras sesgada a la derecha."
      ]
    },
    {
      "cell_type": "code",
      "execution_count": 28,
      "metadata": {
        "colab": {
          "base_uri": "https://localhost:8080/",
          "height": 452
        },
        "id": "mlYVkL8wqDXv",
        "outputId": "12c9073d-11bc-40ef-e27a-961b48077b87"
      },
      "outputs": [
        {
          "data": {
            "image/png": "[encoded data removed]",
            "text/plain": [
              "<Figure size 640x480 with 1 Axes>"
            ]
          },
          "metadata": {},
          "output_type": "display_data"
        }
      ],
      "source": [
        "dist_post_skew = skewnorm.rvs(6, size=10000) + 1.0\n",
        "\n",
        "plt.hist(dist_post_skew, density=True, bins='auto', histtype='stepfilled', alpha=0.75)\n",
        "plt.title(\"Original - Positive skew \")\n",
        "plt.grid()\n",
        "plt.show()"
      ]
    },
    {
      "cell_type": "markdown",
      "metadata": {
        "id": "7j_ARgKinPCX"
      },
      "source": [
        "Para intentar llegar a una forma más simétrica, aplique la transformacion con la **`raíz cuadrada`**. Si aplica, tome precauciones necesarias de compatibilidad de la transformacion con los valores posibles en los datos."
      ]
    },
    {
      "cell_type": "code",
      "execution_count": 29,
      "metadata": {
        "colab": {
          "base_uri": "https://localhost:8080/",
          "height": 452
        },
        "id": "Du-KmNOzn9QW",
        "outputId": "587864d8-aec3-405e-80e5-59ffbc4d4904"
      },
      "outputs": [
        {
          "data": {
            "image/png": "[encoded data removed]",
            "text/plain": [
              "<Figure size 640x480 with 1 Axes>"
            ]
          },
          "metadata": {},
          "output_type": "display_data"
        }
      ],
      "source": [
        "# Tu codigo va aqui\n",
        "sqrt_data = np.sqrt(dist_post_skew)\n",
        "plt.hist(sqrt_data, density=True, bins='auto', histtype='stepfilled', alpha=0.75)\n",
        "plt.title(\"Original - Sqrt Transform\")\n",
        "plt.grid()\n",
        "plt.show()"
      ]
    },
    {
      "cell_type": "markdown",
      "metadata": {
        "id": "UzWBbj33n1FA"
      },
      "source": [
        "Para intentar llegar a una forma más simétrica, aplique la transformacion con **`log`**. Si aplica, tome precauciones necesarias de compatibilidad de la transformacion con los valores posibles en los datos."
      ]
    },
    {
      "cell_type": "code",
      "execution_count": 30,
      "metadata": {
        "colab": {
          "base_uri": "https://localhost:8080/",
          "height": 452
        },
        "id": "vNLF8E_9n5o4",
        "outputId": "c12b6620-f88f-4695-fac0-a1a5e97ade06"
      },
      "outputs": [
        {
          "data": {
            "image/png": "[encoded data removed]",
            "text/plain": [
              "<Figure size 640x480 with 1 Axes>"
            ]
          },
          "metadata": {},
          "output_type": "display_data"
        }
      ],
      "source": [
        "# Tu codigo va aqui\n",
        "log_data = np.log(dist_post_skew)\n",
        "plt.hist(log_data, density=True, bins='auto', histtype='stepfilled', alpha=0.75)\n",
        "plt.title(\"Original - Log transform\")\n",
        "plt.grid()\n",
        "plt.show()"
      ]
    },
    {
      "cell_type": "code",
      "execution_count": 31,
      "metadata": {
        "colab": {
          "base_uri": "https://localhost:8080/",
          "height": 469
        },
        "id": "X6B8Dyr09ZS6",
        "outputId": "b6a6c905-8c70-4912-8025-f26eda2781f7"
      },
      "outputs": [
        {
          "data": {
            "text/plain": [
              "Text(0.5, 1.0, 'Original - Log Sqrt Transform')"
            ]
          },
          "execution_count": 31,
          "metadata": {},
          "output_type": "execute_result"
        },
        {
          "data": {
            "image/png": "[encoded data removed]",
            "text/plain": [
              "<Figure size 640x480 with 1 Axes>"
            ]
          },
          "metadata": {},
          "output_type": "display_data"
        }
      ],
      "source": [
        "log_sqrt_data = np.log(np.sqrt(dist_post_skew))\n",
        "plt.hist(log_sqrt_data, density=True, bins='auto', histtype='stepfilled', alpha=0.75)\n",
        "plt.title(\"Original - Log Sqrt Transform\")"
      ]
    },
    {
      "cell_type": "markdown",
      "metadata": {
        "id": "KNk21mDhrJ4k"
      },
      "source": [
        "## Distribuciones asimetricas (sesgado a la izquierda - negativa)\n",
        "\n",
        "A continuacion se muestra el histrograma de la distribucion de 10,000 muestras sesgada a la izquierda."
      ]
    },
    {
      "cell_type": "code",
      "execution_count": 44,
      "metadata": {
        "colab": {
          "base_uri": "https://localhost:8080/",
          "height": 452
        },
        "id": "k-lyA1IK-VE8",
        "outputId": "9c971c2a-bbcc-422e-c86e-59d75b2e2836"
      },
      "outputs": [
        {
          "data": {
            "image/png": "[encoded data removed]",
            "text/plain": [
              "<Figure size 640x480 with 1 Axes>"
            ]
          },
          "metadata": {},
          "output_type": "display_data"
        }
      ],
      "source": [
        "dist_neg_skew = skewnorm.rvs(-4, size=10000) + 4.0\n",
        "\n",
        "plt.hist(dist_neg_skew, density=True, bins='auto', histtype='stepfilled', alpha=0.75)\n",
        "plt.title(\"Original - Negative skew \")\n",
        "plt.grid()\n",
        "plt.show()"
      ]
    },
    {
      "cell_type": "markdown",
      "metadata": {
        "id": "WHbasM3koN7s"
      },
      "source": [
        "Para intentar llegar a una forma más simétrica, aplique la transformacion con la **`raíz cuadrada`**. Si aplica, tome precauciones necesarias de compatibilidad de la transformacion con los valores posibles en los datos."
      ]
    },
    {
      "cell_type": "code",
      "execution_count": 46,
      "metadata": {
        "colab": {
          "base_uri": "https://localhost:8080/",
          "height": 452
        },
        "id": "8uqnwci8oN7s",
        "outputId": "2bd660d6-cfdb-4a48-f6f4-8db29cc11bbe"
      },
      "outputs": [
        {
          "data": {
            "image/png": "[encoded data removed]",
            "text/plain": [
              "<Figure size 640x480 with 1 Axes>"
            ]
          },
          "metadata": {},
          "output_type": "display_data"
        }
      ],
      "source": [
        "# Tu codigo va aqui\n",
        "if np.any(dist_neg_skew < 0):\n",
        "    dist_shifted = dist_neg_skew - dist_neg_skew.min()\n",
        "    sqrt_data = np.sqrt(dist_shifted)\n",
        "else:\n",
        "    sqrt_data = np.sqrt(dist_neg_skew)\n",
        "\n",
        "plt.hist(sqrt_data, density=True, bins='auto', histtype='stepfilled', alpha=0.75)\n",
        "plt.title(\"Negative skew - Sqrt Transform\")\n",
        "plt.grid()\n",
        "plt.show()"
      ]
    },
    {
      "cell_type": "markdown",
      "metadata": {
        "id": "8sSNk6aRoY7h"
      },
      "source": [
        "Para intentar llegar a una forma más simétrica, aplique la transformacion con **`log`**. Si aplica, tome precauciones necesarias de compatibilidad de la transformacion con los valores posibles en los datos."
      ]
    },
    {
      "cell_type": "code",
      "execution_count": 54,
      "metadata": {
        "colab": {
          "base_uri": "https://localhost:8080/",
          "height": 452
        },
        "id": "fSG3p8EioY7h",
        "outputId": "26b5768f-052d-4fea-9a8a-6f058b70b6d5"
      },
      "outputs": [
        {
          "data": {
            "image/png": "[encoded data removed]",
            "text/plain": [
              "<Figure size 640x480 with 1 Axes>"
            ]
          },
          "metadata": {},
          "output_type": "display_data"
        }
      ],
      "source": [
        "# Si hay valores negativos, desplazamos los datos antes de aplicar log\n",
        "if np.any(dist_neg_skew <= 0):\n",
        "    datos_shifted = dist_neg_skew - dist_neg_skew.min() + 1\n",
        "    log_data = np.log(datos_shifted)\n",
        "else:\n",
        "    log_data = np.log(dist_neg_skew)\n",
        "\n",
        "plt.hist(log_data, density=True, bins='auto', histtype='stepfilled', alpha=0.75)\n",
        "plt.title(\"Negative skew - Log Transform\")\n",
        "plt.grid()\n",
        "plt.show()"
      ]
    },
    {
      "cell_type": "markdown",
      "metadata": {
        "id": "CDk1CO3zCHiY"
      },
      "source": [
        "# BOX-COX\n",
        "\n",
        "Vamos a hacer un ejemplo en Python paso a paso con **`scipy.stats.boxcox`**:\n",
        "\n",
        "* Generamos datos positivos → aplicamos Box-Cox.\n",
        "\n",
        "* Mostramos cómo invertir la transformación (para volver a los datos originales).\n",
        "\n",
        "* Intentamos aplicar Box-Cox a datos con valores negativos → veremos el error que aparece."
      ]
    },
    {
      "cell_type": "code",
      "execution_count": 35,
      "metadata": {
        "id": "qcuQYuFU_AWz"
      },
      "outputs": [],
      "source": [
        "from scipy.stats import norm, boxcox\n",
        "from scipy.special import inv_boxcox\n",
        "import statsmodels.api as sm"
      ]
    },
    {
      "cell_type": "markdown",
      "metadata": {
        "id": "UiW2AmogpVhU"
      },
      "source": [
        "A continuacion se muestra el histrograma de la distribucion sesgada a la derecha. En este caso nos aseguramos que los valores fueran positivos."
      ]
    },
    {
      "cell_type": "code",
      "execution_count": 36,
      "metadata": {
        "colab": {
          "base_uri": "https://localhost:8080/",
          "height": 452
        },
        "id": "qLOLe38qk6wO",
        "outputId": "68c78d6b-ed4f-4597-8eb5-701e8848319c"
      },
      "outputs": [
        {
          "data": {
            "image/png": "[encoded data removed]",
            "text/plain": [
              "<Figure size 640x480 with 1 Axes>"
            ]
          },
          "metadata": {},
          "output_type": "display_data"
        }
      ],
      "source": [
        "# Aplicar transformacion Box-Cox a cada caracteristicas y guardar sus lambdas\n",
        "skew_data = skewnorm.rvs(4, size=10000) + 1.0\n",
        "\n",
        "plt.hist(skew_data, density=True, bins='auto', histtype='stepfilled', alpha=0.2)\n",
        "plt.title(\"Skew data\")\n",
        "plt.grid()\n",
        "plt.show()"
      ]
    },
    {
      "cell_type": "markdown",
      "metadata": {
        "id": "UMLkEMSap8SR"
      },
      "source": [
        "Tambien mostramos como se distribuyen los datos respecto a una distribucion normal a traves de un grafico Q-Q."
      ]
    },
    {
      "cell_type": "code",
      "execution_count": 37,
      "metadata": {
        "colab": {
          "base_uri": "https://localhost:8080/",
          "height": 472
        },
        "id": "z3juhRFFQZgn",
        "outputId": "dfa64fa3-2442-45c5-e32a-f18ffc3acc44"
      },
      "outputs": [
        {
          "data": {
            "image/png": "[encoded data removed]",
            "text/plain": [
              "<Figure size 640x480 with 1 Axes>"
            ]
          },
          "metadata": {},
          "output_type": "display_data"
        }
      ],
      "source": [
        "fig = sm.qqplot(data=skew_data, dist=norm, line=\"q\")\n",
        "plt.title(\"Q-Q Plot\")\n",
        "plt.ylabel(\"Standarized residuals Quantiles\")\n",
        "plt.grid()\n",
        "plt.show()"
      ]
    },
    {
      "cell_type": "markdown",
      "metadata": {
        "id": "fDpKw1kTkxb0"
      },
      "source": [
        "La transformación de Box-Cox transforma los datos no-normales en datos más parecidos a una distribución normal.\n",
        "\n",
        "En `SciPy`, podemos usar la funcion `scipy.stats.boxcox` para aplicar la transformación. La funcion regresa 2 paramentros: los `datos transformados` y el valor de las `lambdas`.\n",
        "\n",
        "**Obtenga los valores transformados, el valor de lambda(s) calculado y muestre el histograma y la grafica QQ de los datos transformados.**"
      ]
    },
    {
      "cell_type": "code",
      "execution_count": 38,
      "metadata": {
        "id": "mGIDk8G4pQxG"
      },
      "outputs": [],
      "source": [
        "# Tu codigo va aqui"
      ]
    },
    {
      "cell_type": "code",
      "execution_count": 39,
      "metadata": {
        "id": "YW8f57KnqXS2"
      },
      "outputs": [],
      "source": [
        "# Tu codigo va aqui"
      ]
    },
    {
      "cell_type": "markdown",
      "metadata": {
        "id": "2jZFMDM3k_7W"
      },
      "source": [
        "Existe la función `scipy.special.inv_boxcox` que permite invertirla de manera directa.\n",
        "\n",
        "\n",
        "**Obtenga la transformacion inversa de los valores (utilice el valor de lambda obtenidos anteriormente). Muestre el histograma y la grafica QQ de los datos transformados.** Nombre la variable que utilice como **`original_data_recovered`**."
      ]
    },
    {
      "cell_type": "code",
      "execution_count": 40,
      "metadata": {
        "id": "S_qFLYoTq0y2"
      },
      "outputs": [],
      "source": [
        "# Tu codigo va aqui"
      ]
    },
    {
      "cell_type": "code",
      "execution_count": 41,
      "metadata": {
        "id": "3BNAhdD8q01U"
      },
      "outputs": [],
      "source": [
        "# Tu codigo va aqui"
      ]
    },
    {
      "cell_type": "markdown",
      "metadata": {
        "id": "e3tEU-t6q3lt"
      },
      "source": [
        "A continuacion, verificamos que es igual (con un pequeño error numérico) los datos sesgados originales y los datos obtenidos en la transformacion inversa."
      ]
    },
    {
      "cell_type": "code",
      "execution_count": 42,
      "metadata": {
        "colab": {
          "base_uri": "https://localhost:8080/",
          "height": 141
        },
        "id": "rQeuB-fYVIf0",
        "outputId": "b7bb0f4a-c99c-400a-e2e4-90001652096d"
      },
      "outputs": [
        {
          "ename": "NameError",
          "evalue": "name 'original_data_recovered' is not defined",
          "output_type": "error",
          "traceback": [
            "\u001b[1;31m---------------------------------------------------------------------------\u001b[0m",
            "\u001b[1;31mNameError\u001b[0m                                 Traceback (most recent call last)",
            "Cell \u001b[1;32mIn[42], line 1\u001b[0m\n\u001b[1;32m----> 1\u001b[0m \u001b[38;5;28mprint\u001b[39m(\u001b[38;5;124m\"\u001b[39m\u001b[38;5;124m¿Coinciden los datos originales e invertidos?\u001b[39m\u001b[38;5;124m\"\u001b[39m, np\u001b[38;5;241m.\u001b[39mallclose(skew_data, original_data_recovered))\n",
            "\u001b[1;31mNameError\u001b[0m: name 'original_data_recovered' is not defined"
          ]
        }
      ],
      "source": [
        "print(\"¿Coinciden los datos originales e invertidos?\", np.allclose(skew_data, original_data_recovered))"
      ]
    },
    {
      "cell_type": "markdown",
      "metadata": {
        "id": "uRb5wiu9r4nQ"
      },
      "source": [
        "Por ultimo, verifique que pasa si se intenta transformar datos que contienen valores negativos con la funcion Box Cox:"
      ]
    },
    {
      "cell_type": "code",
      "execution_count": null,
      "metadata": {
        "id": "6-343GnNsC_2"
      },
      "outputs": [],
      "source": [
        "# Tu codigo va aqui"
      ]
    },
    {
      "cell_type": "markdown",
      "metadata": {
        "id": "aWiXlOTIYsri"
      },
      "source": [
        "# Yeo-Johnson\n",
        "\n",
        "A continuacion se muestra el histrograma de la distribucion sesgada a la derecha. Note que en este caso la distribucion contiene valores negativos."
      ]
    },
    {
      "cell_type": "code",
      "execution_count": null,
      "metadata": {
        "id": "z5exgdoGVOD2"
      },
      "outputs": [],
      "source": [
        "# Aplicar transformacion Box-Cox a cada caracteristicas y guardar sus lambdas\n",
        "skew_data_neg = skewnorm.rvs(4, size=10000)\n",
        "\n",
        "plt.hist(skew_data_neg, density=True, bins='auto', histtype='stepfilled', alpha=0.2)\n",
        "plt.title(\"Original Skew Data\")\n",
        "plt.grid()\n",
        "plt.show()"
      ]
    },
    {
      "cell_type": "markdown",
      "metadata": {
        "id": "4YwoOZX8sUEH"
      },
      "source": [
        "Tambien mostramos como se distribuyen los datos respecto a una distribucion normal a traves de un grafico Q-Q."
      ]
    },
    {
      "cell_type": "code",
      "execution_count": null,
      "metadata": {
        "id": "I8ldM-xAsY7K"
      },
      "outputs": [],
      "source": [
        "fig = sm.qqplot(data=skew_data_neg, dist=norm, line=\"q\")\n",
        "plt.title(\"Q-Q Plot\")\n",
        "plt.ylabel(\"Standarized residuals Quantiles\")\n",
        "plt.grid()\n",
        "plt.show()"
      ]
    },
    {
      "cell_type": "markdown",
      "metadata": {
        "id": "WknIAEw3kRR4"
      },
      "source": [
        "Sí implementa **Yeo-Johnson** puede utilizar `sklearn`, usando `sklearn.preprocessing.PowerTransformer`. Actualmente, `PowerTransformer` es compatible con la transformación de **Box-Cox** y la transformación de **Yeo-Johnson**.\n",
        "\n",
        "```\n",
        "pt = PowerTransformer(method='yeo-johnson', standardize=False)\n",
        "\n",
        "transformed_data = pt.fit_transform(X)\n",
        "```\n",
        "\n",
        "**Obtenga la transformacion Yeo-Johnson de los valores. Muestre el histograma y la grafica QQ de los datos transformados.**\n",
        "\n",
        "**Nota 1.** Es posible que tenga que usar el metodo `.reshape()` en los datos para utilizar el metodo `.fit_transform()`.\n",
        "\n",
        "**Nota 2.** Para la grafica QQ es posible que tenga que aplicar el metodo `.flatten()` en los datos para que la grafica se muestre adecuadamente."
      ]
    },
    {
      "cell_type": "code",
      "execution_count": null,
      "metadata": {
        "id": "NzdIwatxlg5p"
      },
      "outputs": [],
      "source": [
        "from scipy.stats import yeojohnson\n",
        "from sklearn.preprocessing import PowerTransformer"
      ]
    },
    {
      "cell_type": "code",
      "execution_count": null,
      "metadata": {
        "id": "4CSYihkKvQML"
      },
      "outputs": [],
      "source": [
        "# Tu codigo va aqui"
      ]
    },
    {
      "cell_type": "code",
      "execution_count": null,
      "metadata": {
        "id": "beTnJ-SovQPC"
      },
      "outputs": [],
      "source": [
        "# Tu codigo va aqui"
      ]
    },
    {
      "cell_type": "markdown",
      "metadata": {
        "id": "HKZJmn8OtLIS"
      },
      "source": [
        "**Obtenga la transformacion inversa de los valores (utilice el valor de lambda obtenidos anteriormente). Muestre el histograma y la grafica QQ de los datos transformados.**\n",
        "\n",
        "En `SciPy` existe `scipy.special.inv_boxcox` para invertir la transformación **Box-Cox**, pero para **Yeo-Johnson** no hay una función directa de \"inversa\" en el mismo paquete.\n",
        "\n",
        "Lo que se hace es usar el método `.inverse_transform()` del objeto entrenado, que aplica internamente la inversa.  Nombre la variable que utilice como **`original_data_recovered`**."
      ]
    },
    {
      "cell_type": "code",
      "execution_count": null,
      "metadata": {
        "id": "FIcxBFqjvWH1"
      },
      "outputs": [],
      "source": [
        "# Tu codigo va aqui"
      ]
    },
    {
      "cell_type": "code",
      "execution_count": null,
      "metadata": {
        "id": "M6c2ElefvWKT"
      },
      "outputs": [],
      "source": [
        "# Tu codigo va aqui"
      ]
    },
    {
      "cell_type": "code",
      "execution_count": null,
      "metadata": {
        "id": "gRDBXMklvvik"
      },
      "outputs": [],
      "source": [
        "# Verificamos que es igual (con un pequeño error numérico)\n",
        "print(\"¿Coinciden los datos originales e invertidos?\", np.allclose(skew_data_neg, original_data_recovered.flatten()))"
      ]
    },
    {
      "cell_type": "markdown",
      "metadata": {
        "id": "hLbg25LckOA-"
      },
      "source": [
        "Alternativamente, tambien existe el metodo `._yeo_johnson_inverse_transform(X, pt.lambdas_)`[*](https://github.com/scikit-learn/scikit-learn/blob/c5497b7f7/sklearn/preprocessing/_data.py#L3412) que aplica la transformacion a los datos `X` utilizando las `lambdas` del objeto entrenado `pt`.  Nombre la variable que utilice como **`original_data_recovered`**."
      ]
    },
    {
      "cell_type": "code",
      "execution_count": null,
      "metadata": {
        "id": "Yrc2amP1xqFj"
      },
      "outputs": [],
      "source": [
        "# Tu codigo va aqui"
      ]
    },
    {
      "cell_type": "code",
      "execution_count": null,
      "metadata": {
        "id": "KP-bzuCUxqIP"
      },
      "outputs": [],
      "source": [
        "# Verificamos que es igual (con un pequeño error numérico)\n",
        "print(\"¿Coinciden los datos originales e invertidos?\", np.allclose(skew_data_neg, original_data_recovered.flatten()))"
      ]
    }
  ],
  "metadata": {
    "colab": {
      "provenance": []
    },
    "kernelspec": {
      "display_name": "base",
      "language": "python",
      "name": "python3"
    },
    "language_info": {
      "codemirror_mode": {
        "name": "ipython",
        "version": 3
      },
      "file_extension": ".py",
      "mimetype": "text/x-python",
      "name": "python",
      "nbconvert_exporter": "python",
      "pygments_lexer": "ipython3",
      "version": "3.12.7"
    }
  },
  "nbformat": 4,
  "nbformat_minor": 0
}
