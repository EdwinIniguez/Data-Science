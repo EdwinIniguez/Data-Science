{
  "cells": [
    {
      "cell_type": "markdown",
      "metadata": {
        "id": "IkdIPZslg7Rn"
      },
      "source": [
        "# **Ejercicio: Implementación desde cero de una Regresión Lineal**\n",
        "\n",
        "**Objetivo:**\n",
        "\n",
        "El propósito de este ejercicio es que el estudiante implemente una regresión lineal utilizando el método de mínimos cuadrados sin recurrir a librerías de machine learning (como `scikit-learn`, `statsmodels`, etc.). El desarrollo debe hacerse paso a paso, utilizando únicamente Python básico y librerías numéricas como `numpy`, `pandas` y un par de funciones seccionadas de `scipy.stats.t`.\n",
        "\n",
        "La meta es comprender de manera profunda el modelo lineal y las métricas asociadas."
      ]
    },
    {
      "cell_type": "markdown",
      "metadata": {
        "id": "AHbUIao4gtbh"
      },
      "source": [
        "# Datos\n",
        "Tenemos un pequeño conjunto de datos para trabajar con datos:"
      ]
    },
    {
      "cell_type": "code",
      "execution_count": 1,
      "metadata": {
        "id": "cWwpFAmQglaA"
      },
      "outputs": [],
      "source": [
        "import pandas as pd\n",
        "import numpy as np\n",
        "from scipy import stats\n",
        "import matplotlib.pyplot as plt\n",
        "\n",
        "#dataset\n",
        "df = pd.DataFrame({'x': [8, 12, 12, 13, 14, 16, 17, 22, 24, 26, 29, 30],\n",
        "                   'y': [41, 42, 39, 38, 40, 39, 45, 46, 42, 49, 55, 57]})"
      ]
    },
    {
      "cell_type": "code",
      "execution_count": 2,
      "metadata": {
        "colab": {
          "base_uri": "https://localhost:8080/",
          "height": 448
        },
        "id": "Sl6nVXhTssT3",
        "outputId": "ac0667d1-f0ca-4c0c-e25b-e1e871fac642"
      },
      "outputs": [
        {
          "data": {
            "text/plain": [
              "<matplotlib.collections.PathCollection at 0x1eaa2ca2450>"
            ]
          },
          "execution_count": 2,
          "metadata": {},
          "output_type": "execute_result"
        },
        {
          "data": {
            "image/png": "[encoded data removed]",
            "text/plain": [
              "<Figure size 640x480 with 1 Axes>"
            ]
          },
          "metadata": {},
          "output_type": "display_data"
        }
      ],
      "source": [
        "plt.scatter(df['x'], df['y'], marker=\".\", alpha=0.5)"
      ]
    },
    {
      "cell_type": "markdown",
      "metadata": {
        "id": "oT9Ibadwi3bg"
      },
      "source": [
        "A continuacion definimos las variables dependientes e independientes:"
      ]
    },
    {
      "cell_type": "code",
      "execution_count": 3,
      "metadata": {
        "id": "L3vKfl9Xi8Be"
      },
      "outputs": [],
      "source": [
        "# definimos la variable dependiente\n",
        "Y = df['y']\n",
        "\n",
        "# definimos la variable independiente\n",
        "X = df['x']"
      ]
    },
    {
      "cell_type": "markdown",
      "metadata": {
        "id": "eCXRbY8ItyWu"
      },
      "source": [
        "# Modelo lineal\n",
        "A continuacion definimos las funciones de nuestro modelo y la funcion para obtener nuestras predicciones."
      ]
    },
    {
      "cell_type": "code",
      "execution_count": null,
      "metadata": {
        "id": "-Exb6x94uGym"
      },
      "outputs": [],
      "source": [
        "def MODELO(X, Y):\n",
        "  \"\"\" Desarrolla el modelo de regresion lineal utilizando el metodo de tu preferencia,\n",
        "      Regresa los coeficientes del modelo: intercepto (bias) y pendiente.\n",
        "  \"\"\"\n",
        "  # Calcular la media de X y de Y\n",
        "  x_mean = np.mean(X)\n",
        "  y_mean = np.mean(Y)\n",
        "  \n",
        "  # Calcular la pendiente (beta_1) usando la fórmula de mínimos cuadrados\n",
        "  beta_1 = np.sum((X - x_mean) * (Y - y_mean)) / np.sum((X - x_mean)**2)\n",
        "  \n",
        "  # Calcular el intercepto (beta_0)\n",
        "  beta_0 = y_mean - beta_1 * x_mean\n",
        "  \n",
        "  # Retornar los coeficientes del modelo\n",
        "  return beta_0, beta_1\n",
        "\n",
        "def Predict (beta_0, beta_1, X):\n",
        "  \"\"\" Regresa los valores predichos.\"\"\"\n",
        "  return beta_0 + beta_1 * X"
      ]
    },
    {
      "cell_type": "markdown",
      "metadata": {
        "id": "5zCKd40vuAHN"
      },
      "source": [
        "# Metricas Estadisticas\n",
        "En esta seccion, se implementaran los diversa metricas estadisticas que describen la calidad de ajuste de nuestro modelo y los detalles de los coeficientes y datos."
      ]
    },
    {
      "cell_type": "code",
      "execution_count": null,
      "metadata": {
        "id": "8A2lvETFjFsr"
      },
      "outputs": [],
      "source": [
        "def R2_score(y_true, y_pred):\n",
        "  \"\"\" Calcula y regresa el valor del coeficiente de determinacion \"\"\"\n",
        "  # Suma de los residuos al cuadrado (diferencia entre valores reales y predichos)\n",
        "  ss_res = np.sum((y_true - y_pred) ** 2)\n",
        "\n",
        "  # Suma total al cuadrado (diferencia entre valores reales y su media)\n",
        "  ss_tot = np.sum((y_true - np.mean(y_true)) ** 2)\n",
        "  \n",
        "  # Cálculo de R^2\n",
        "  r2 = 1 - (ss_res / ss_tot)\n",
        "  return r2"
      ]
    },
    {
      "cell_type": "code",
      "execution_count": null,
      "metadata": {
        "id": "Oe8JPx3cjcra"
      },
      "outputs": [],
      "source": [
        "def std_error(x, y_true, y_pred):\n",
        "  \"\"\" Calcula y regresa el valor del error estandar de los estimadores b_0 y b_1 [tupla o lista] \"\"\"\n",
        "  \n",
        "  n = len(x)\n",
        "  x_mean = np.mean(x)\n",
        "\n",
        "  # Varianza residual (estimación de la varianza del error)\n",
        "  s2 = np.sum((y_true - y_pred) ** 2) / (n - 2)\n",
        "\n",
        "  # Error estándar de la pendiente\n",
        "  s_beta1 = np.sqrt(s2 / np.sum((x - x_mean) ** 2))\n",
        "  \n",
        "  # Error estándar del intercepto\n",
        "  s_beta0 = np.sqrt(s2 * (1/n + x_mean**2 / np.sum((x - x_mean) ** 2)))\n",
        "  return s_beta0, s_beta1"
      ]
    },
    {
      "cell_type": "code",
      "execution_count": null,
      "metadata": {
        "id": "dn_dEnQRkyXW"
      },
      "outputs": [],
      "source": [
        "def IC(beta_0, beta_1, x, y_true, y_pred, alpha):\n",
        "  \"\"\" Calcula y regresa los intervalos de confianza (inferior, superior) de los estimadores b_0 y b_1 [tupla o lista] \"\"\"\n",
        "  n = len(x)\n",
        "  df = n - 2\n",
        "  # Calcular errores estándar de los coeficientes\n",
        "  s_beta0, s_beta1 = std_error(x, y_true, y_pred)\n",
        "\n",
        "  # Valor crítico t para el nivel de confianza deseado\n",
        "  t_crit = stats.t.ppf(1 - alpha/2, df)\n",
        "\n",
        "  # Intervalo de confianza para beta_0\n",
        "  ic_beta0 = (beta_0 - t_crit * s_beta0, beta_0 + t_crit * s_beta0)\n",
        "  \n",
        "  # Intervalo de confianza para beta_1\n",
        "  ic_beta1 = (beta_1 - t_crit * s_beta1, beta_1 + t_crit * s_beta1)\n",
        "  return ic_beta0, ic_beta1"
      ]
    },
    {
      "cell_type": "code",
      "execution_count": null,
      "metadata": {},
      "outputs": [],
      "source": []
    },
    {
      "cell_type": "code",
      "execution_count": null,
      "metadata": {
        "id": "AZtat3FMnQwx"
      },
      "outputs": [],
      "source": [
        "def T(beta_0, beta_1, x, y_true, y_pred):\n",
        "  \"\"\" Calcula y regresa la estadistica de prueba T para los estimadores b_0 y b_1 [tupla o lista] \"\"\"\n",
        "  # Calcular los errores estándar de los coeficientes\n",
        "  s_beta0, s_beta1 = std_error(x, y_true, y_pred)\n",
        "  \n",
        "  # Calcular la estadística t para cada coeficiente\n",
        "  t_beta0 = beta_0 / s_beta0\n",
        "  t_beta1 = beta_1 / s_beta1\n",
        "  return t_beta0, t_beta1\n",
        "\n",
        "def Pvalue(t_value, df, two_tails=True):\n",
        "  \"\"\" Calcula y regresa el p-value dependiendo si se trata de una prueba de una o dos colas [float] \"\"\"\n",
        "  # Se utiliza la función de supervivencia de la t de Student\n",
        "  if two_tails:\n",
        "    p = 2 * stats.t.sf(np.abs(t_value), df)\n",
        "  else:\n",
        "    p = stats.t.sf(np.abs(t_value), df)\n",
        "  return p"
      ]
    },
    {
      "cell_type": "markdown",
      "metadata": {
        "id": "jdpktnSaivTA"
      },
      "source": [
        "# Comparativa\n",
        "\n",
        "A continuacion mostramos los resultados obtenidos de un modelos de la libreria de `statsmodels`. Compare los resultados que obtuvo con los resultados obtenidos por el modelo."
      ]
    },
    {
      "cell_type": "code",
      "execution_count": 9,
      "metadata": {
        "colab": {
          "base_uri": "https://localhost:8080/"
        },
        "id": "9GsUiCiA45L8",
        "outputId": "2c23afd5-8c39-4c3b-b4bd-7127fe696192"
      },
      "outputs": [
        {
          "name": "stdout",
          "output_type": "stream",
          "text": [
            "                            OLS Regression Results                            \n",
            "==============================================================================\n",
            "Dep. Variable:                      y   R-squared:                       0.735\n",
            "Model:                            OLS   Adj. R-squared:                  0.708\n",
            "Method:                 Least Squares   F-statistic:                     27.73\n",
            "Date:                Fri, 05 Sep 2025   Prob (F-statistic):           0.000365\n",
            "Time:                        22:17:40   Log-Likelihood:                -30.629\n",
            "No. Observations:                  12   AIC:                             65.26\n",
            "Df Residuals:                      10   BIC:                             66.23\n",
            "Df Model:                           1                                         \n",
            "Covariance Type:            nonrobust                                         \n",
            "==============================================================================\n",
            "                 coef    std err          t      P>|t|      [0.025      0.975]\n",
            "------------------------------------------------------------------------------\n",
            "const         30.7636      2.772     11.096      0.000      24.586      36.941\n",
            "x              0.7347      0.140      5.266      0.000       0.424       1.046\n",
            "==============================================================================\n",
            "Omnibus:                        0.388   Durbin-Watson:                   1.165\n",
            "Prob(Omnibus):                  0.824   Jarque-Bera (JB):                0.419\n",
            "Skew:                          -0.331   Prob(JB):                        0.811\n",
            "Kurtosis:                       2.369   Cond. No.                         56.2\n",
            "==============================================================================\n",
            "\n",
            "Notes:\n",
            "[1] Standard Errors assume that the covariance matrix of the errors is correctly specified.\n"
          ]
        },
        {
          "name": "stderr",
          "output_type": "stream",
          "text": [
            "c:\\Users\\edosa\\anaconda3\\Lib\\site-packages\\scipy\\stats\\_axis_nan_policy.py:531: UserWarning: kurtosistest only valid for n>=20 ... continuing anyway, n=12\n",
            "  res = hypotest_fun_out(*samples, **kwds)\n"
          ]
        }
      ],
      "source": [
        "import statsmodels.api as sm\n",
        "\n",
        "# Definicion & fit de un modelo de regresion lineal\n",
        "model = sm.OLS(Y, sm.add_constant(X))\n",
        "results = model.fit()\n",
        "\n",
        "# Imprimir el reporte estadistico\n",
        "print(results.summary())"
      ]
    },
    {
      "cell_type": "code",
      "execution_count": 10,
      "metadata": {},
      "outputs": [
        {
          "name": "stdout",
          "output_type": "stream",
          "text": [
            "Intercepto (beta_0): 30.763552318251854\n",
            "Pendiente (beta_1): 0.7346967362375684\n",
            "R2: 0.7349769943860472\n",
            "Error estándar beta_0: 2.7724629854928864\n",
            "Error estándar beta_1: 0.13951246923402266\n",
            "IC beta_0 (95%): (24.58611982464045, 36.94098481186326)\n",
            "IC beta_1 (95%): (0.4238435832036793, 1.0455498892714574)\n",
            "t beta_0: 11.096109300367353\n",
            "t beta_1: 5.266172552685342\n",
            "p-value beta_0: 6.079702528805614e-07\n",
            "p-value beta_1: 0.0003648102532070309\n"
          ]
        }
      ],
      "source": [
        "# Ajustar el modelo\n",
        "beta_0, beta_1 = MODELO(X, Y)\n",
        "print(f\"Intercepto (beta_0): {beta_0}\")\n",
        "print(f\"Pendiente (beta_1): {beta_1}\")\n",
        "\n",
        "# Predicciones\n",
        "y_pred = Predict(beta_0, beta_1, X)\n",
        "\n",
        "# R2\n",
        "r2 = R2_score(Y, y_pred)\n",
        "print(f\"R2: {r2}\")\n",
        "\n",
        "# Error estándar de los coeficientes\n",
        "s_beta0, s_beta1 = std_error(X, Y, y_pred)\n",
        "print(f\"Error estándar beta_0: {s_beta0}\")\n",
        "print(f\"Error estándar beta_1: {s_beta1}\")\n",
        "\n",
        "# Intervalos de confianza (95%)\n",
        "ic_beta0, ic_beta1 = IC(beta_0, beta_1, X, Y, y_pred, alpha=0.05)\n",
        "print(f\"IC beta_0 (95%): {ic_beta0}\")\n",
        "print(f\"IC beta_1 (95%): {ic_beta1}\")\n",
        "\n",
        "# Estadística t\n",
        "t_beta0, t_beta1 = T(beta_0, beta_1, X, Y, y_pred)\n",
        "print(f\"t beta_0: {t_beta0}\")\n",
        "print(f\"t beta_1: {t_beta1}\")\n",
        "\n",
        "# p-values\n",
        "df = len(X) - 2\n",
        "p_beta0 = Pvalue(t_beta0, df)\n",
        "p_beta1 = Pvalue(t_beta1, df)\n",
        "print(f\"p-value beta_0: {p_beta0}\")\n",
        "print(f\"p-value beta_1: {p_beta1}\")"
      ]
    },
    {
      "cell_type": "markdown",
      "metadata": {},
      "source": [
        "## Comparación de los resultados\n",
        "\n",
        "| Métrica                | Modelo manual             | Statsmodels OLS           | Diferencia         |\n",
        "|------------------------|---------------------------|---------------------------|--------------------|\n",
        "| **Intercepto (β₀)**    | 30.7636                   | 30.7636                   | 0.0000             |\n",
        "| **Pendiente (β₁)**     | 0.7347                    | 0.7347                    | 0.0000             |\n",
        "| **R²**                 | 0.7350                    | 0.7350                    | 0.0000             |\n",
        "| **Error estándar β₀**  | 2.7725                    | 2.772                     | ≈0.0005            |\n",
        "| **Error estándar β₁**  | 0.1395                    | 0.140                     | ≈0.0005            |\n",
        "| **IC β₀ (95%)**        | (24.59, 36.94)            | (24.59, 36.94)            | 0.00               |\n",
        "| **IC β₁ (95%)**        | (0.42, 1.05)              | (0.42, 1.05)              | 0.00               |\n",
        "| **t β₀**               | 11.10                     | 11.10                     | 0.00               |\n",
        "| **t β₁**               | 5.27                      | 5.27                      | 0.00               |\n",
        "| **p-value β₀**         | 6.08e-07                  | 0.000                     | ≈0.00              |\n",
        "| **p-value β₁**         | 0.00036                   | 0.000                     | ≈0.00              |\n",
        "\n",
        "### **Conclusión**\n",
        "\n",
        "- **Los resultados de ambos modelos son prácticamente idénticos** en todas las métricas.\n",
        "- Esto confirma que la implementación manual de mínimos cuadrados es correcta y coincide con la de una librería profesional como `statsmodels`.\n",
        "- Las pequeñas diferencias en los decimales se deben únicamente al redondeo en la presentación de los resultados.\n",
        "\n",
        "**Ambos modelos llegan a las mismas conclusiones estadísticas sobre los datos.**"
      ]
    },
    {
      "cell_type": "markdown",
      "metadata": {
        "id": "sg4v3GrmvuK3"
      },
      "source": [
        "# Otros datos\n",
        "\n",
        "A continuacion mostramos un conjunto de datos alternativo. Aplica nuevamente el modelo a estos nuevos datos, junto con sus metricas estadisticas.\n",
        "\n",
        "* **¿Ha percibido algun valor anormal en los coeficientes, intervalos de confianza o P-values? De ser asi, ¿A que se lo adjudica?**"
      ]
    },
    {
      "cell_type": "code",
      "execution_count": 11,
      "metadata": {
        "id": "wFkO6dprvwK2"
      },
      "outputs": [],
      "source": [
        "df = pd.DataFrame({'x': [-10.583333333333332,-6.583333333333332, -6.583333333333332, -5.583333333333332, -4.583333333333332, -2.583333333333332, -1.5833333333333321, 3.416666666666668, 5.416666666666668, 7.416666666666668, 10.416666666666668, 11.416666666666668],\n",
        "                   'y': [-3.4166666666666643, -2.4166666666666643, -5.416666666666664, -6.416666666666664, -4.416666666666664, -5.416666666666664, 0.5833333333333357, 1.5833333333333357, -2.4166666666666643, 4.583333333333336, 10.583333333333336, 12.583333333333336]})"
      ]
    },
    {
      "cell_type": "code",
      "execution_count": 12,
      "metadata": {
        "id": "O4sfOppDv1gg"
      },
      "outputs": [],
      "source": [
        "# definimos la variable dependiente\n",
        "Y = df['y']\n",
        "\n",
        "# definimos la variable independiente\n",
        "X = df['x']"
      ]
    },
    {
      "cell_type": "code",
      "execution_count": 14,
      "metadata": {
        "id": "cKPp83GGbQJQ"
      },
      "outputs": [
        {
          "name": "stdout",
          "output_type": "stream",
          "text": [
            "Intercepto (beta_0): 1.4984200709999033e-15\n",
            "Pendiente (beta_1): 0.7346967362375681\n"
          ]
        }
      ],
      "source": [
        "# Ajustar el modelo con los nuevos datos\n",
        "beta_0, beta_1 = MODELO(X, Y)\n",
        "print(f\"Intercepto (beta_0): {beta_0}\")\n",
        "print(f\"Pendiente (beta_1): {beta_1}\")\n",
        "\n",
        "# Predicciones\n",
        "y_pred = Predict(beta_0, beta_1, X)"
      ]
    },
    {
      "cell_type": "code",
      "execution_count": 15,
      "metadata": {},
      "outputs": [
        {
          "name": "stdout",
          "output_type": "stream",
          "text": [
            "R2: 0.7349769943860474\n",
            "Error estándar beta_0: 0.9823143090122662\n",
            "Error estándar beta_1: 0.13951246923402263\n",
            "IC beta_0 (95%): (-2.1887326767513215, 2.188732676751324)\n",
            "IC beta_1 (95%): (0.42384358320367915, 1.0455498892714572)\n",
            "t beta_0: 1.5253977848562444e-15\n",
            "t beta_1: 5.266172552685341\n",
            "p-value beta_0: 0.9999999999999989\n",
            "p-value beta_1: 0.00036481025320703186\n"
          ]
        }
      ],
      "source": [
        "# R2\n",
        "r2 = R2_score(Y, y_pred)\n",
        "print(f\"R2: {r2}\")\n",
        "\n",
        "# Error estándar de los coeficientes\n",
        "s_beta0, s_beta1 = std_error(X, Y, y_pred)\n",
        "print(f\"Error estándar beta_0: {s_beta0}\")\n",
        "print(f\"Error estándar beta_1: {s_beta1}\")\n",
        "\n",
        "# Intervalos de confianza (95%)\n",
        "ic_beta0, ic_beta1 = IC(beta_0, beta_1, X, Y, y_pred, alpha=0.05)\n",
        "print(f\"IC beta_0 (95%): {ic_beta0}\")\n",
        "print(f\"IC beta_1 (95%): {ic_beta1}\")\n",
        "\n",
        "# Estadística t\n",
        "t_beta0, t_beta1 = T(beta_0, beta_1, X, Y, y_pred)\n",
        "print(f\"t beta_0: {t_beta0}\")\n",
        "print(f\"t beta_1: {t_beta1}\")\n",
        "\n",
        "# p-values\n",
        "df = len(X) - 2\n",
        "p_beta0 = Pvalue(t_beta0, df)\n",
        "p_beta1 = Pvalue(t_beta1, df)\n",
        "print(f\"p-value beta_0: {p_beta0}\")\n",
        "print(f\"p-value beta_1: {p_beta1}\")"
      ]
    },
    {
      "cell_type": "markdown",
      "metadata": {},
      "source": [
        "* **¿Ha percibido algún valor anormal en los coeficientes, intervalos de confianza o P-values? De ser así, ¿A qué se lo adjudica?**\n",
        "\n",
        "Sí, se observa un valor anormal en el p-value del intercepto (`beta_0`). \n",
        "El **intercepto (beta_0)** es prácticamente cero, su t es casi cero y su p-value es prácticamente 1. Indica que no es significativo.\n",
        "- El **intervalo de confianza** para el intercepto incluye al cero, lo que refuerza que no es significativo.\n",
        "- La **pendiente (beta_1)**, su intervalo de confianza y su p-value muestran que sí es significativa."
      ]
    }
  ],
  "metadata": {
    "colab": {
      "provenance": []
    },
    "kernelspec": {
      "display_name": "base",
      "language": "python",
      "name": "python3"
    },
    "language_info": {
      "codemirror_mode": {
        "name": "ipython",
        "version": 3
      },
      "file_extension": ".py",
      "mimetype": "text/x-python",
      "name": "python",
      "nbconvert_exporter": "python",
      "pygments_lexer": "ipython3",
      "version": "3.12.7"
    }
  },
  "nbformat": 4,
  "nbformat_minor": 0
}
